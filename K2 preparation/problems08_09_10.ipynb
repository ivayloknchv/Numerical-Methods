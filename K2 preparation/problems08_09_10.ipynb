{
 "cells": [
  {
   "cell_type": "code",
   "execution_count": 7,
   "id": "ed3cf13c-a99a-4ce0-8646-aaf35c436bc6",
   "metadata": {},
   "outputs": [],
   "source": [
    "import numpy as np"
   ]
  },
  {
   "cell_type": "code",
   "execution_count": 8,
   "id": "0557400c-0161-4e77-8e0a-ce56434159be",
   "metadata": {},
   "outputs": [],
   "source": [
    "# 8 Trapezoid"
   ]
  },
  {
   "cell_type": "code",
   "execution_count": 9,
   "id": "2a1e2b89-4b43-43c8-b858-c14ffd7bca05",
   "metadata": {},
   "outputs": [],
   "source": [
    "def f(x):\n",
    "    return -x**4 + 1"
   ]
  },
  {
   "cell_type": "code",
   "execution_count": 10,
   "id": "6836489f-c24d-431d-a5f6-9b13877141bd",
   "metadata": {},
   "outputs": [],
   "source": [
    "def trapezoid_formula(a, b, f, nodes, n):\n",
    "    res = 0\n",
    "    for i in range(1, n + 1):\n",
    "        res += (f(nodes[i-1]) + f(nodes[i]))\n",
    "    res *= (b-a) / (2*n)\n",
    "    return res"
   ]
  },
  {
   "cell_type": "code",
   "execution_count": 11,
   "id": "37bf37eb-7c7a-43e8-a102-6662f32a3794",
   "metadata": {},
   "outputs": [],
   "source": [
    "n = 4"
   ]
  },
  {
   "cell_type": "code",
   "execution_count": 12,
   "id": "fd7ab5d6-d631-4f72-9713-b08ed733507f",
   "metadata": {},
   "outputs": [],
   "source": [
    "nodes = np.linspace(-1, 1, n + 1)"
   ]
  },
  {
   "cell_type": "code",
   "execution_count": 13,
   "id": "d0c750d7-fad3-4cec-8900-7922b937a41b",
   "metadata": {},
   "outputs": [
    {
     "name": "stdout",
     "output_type": "stream",
     "text": [
      "1.4375\n"
     ]
    }
   ],
   "source": [
    "print(trapezoid_formula(-1, 1, f, nodes, n))"
   ]
  },
  {
   "cell_type": "code",
   "execution_count": 14,
   "id": "29ba1ae0-25c2-4c43-bb5f-41e0600cf7f2",
   "metadata": {},
   "outputs": [],
   "source": [
    "# 9 Simpson"
   ]
  },
  {
   "cell_type": "code",
   "execution_count": 49,
   "id": "a304ea05-580c-416a-a12c-b1206c2aba81",
   "metadata": {},
   "outputs": [],
   "source": [
    "def simpson_modified(values, a, b, n):\n",
    "    res = 0\n",
    "    for i in range(2, 2*n + 1, 2):\n",
    "        res += values[i-2] + 4 * values[i - 1] + values[i]\n",
    "    res *= ((b-a) / (6 * n))\n",
    "    return res"
   ]
  },
  {
   "cell_type": "code",
   "execution_count": 50,
   "id": "ffb58341-2b20-4c56-b7fa-0499d41a2c04",
   "metadata": {},
   "outputs": [],
   "source": [
    "nodes = np.array([0, 0.1, 0.2, 0.3, 0.4])"
   ]
  },
  {
   "cell_type": "code",
   "execution_count": 51,
   "id": "c3a30051-12f3-4aaa-b368-b7498ec1d6e7",
   "metadata": {},
   "outputs": [],
   "source": [
    "values = np.array([1, 8, 4, 3.5, 5])"
   ]
  },
  {
   "cell_type": "code",
   "execution_count": 52,
   "id": "da1a962d-69f9-40f6-953b-eec09bcee47b",
   "metadata": {},
   "outputs": [],
   "source": [
    "a = 0"
   ]
  },
  {
   "cell_type": "code",
   "execution_count": 53,
   "id": "acfcf50f-1d9f-4565-8240-cdc07305fa12",
   "metadata": {},
   "outputs": [],
   "source": [
    "b = 0.4"
   ]
  },
  {
   "cell_type": "code",
   "execution_count": 87,
   "id": "7e4e229c-b05c-497d-ba3a-4827fd49f9b0",
   "metadata": {},
   "outputs": [],
   "source": [
    "n = 2 # n subintervals [0; 0.2] [0.2; 0.4]"
   ]
  },
  {
   "cell_type": "code",
   "execution_count": 55,
   "id": "f6aed384-bcac-4e09-a552-ef600be855a0",
   "metadata": {},
   "outputs": [
    {
     "name": "stdout",
     "output_type": "stream",
     "text": [
      "2.0\n"
     ]
    }
   ],
   "source": [
    "print(simpson_modified(values, a, b, 2))"
   ]
  },
  {
   "cell_type": "code",
   "execution_count": 56,
   "id": "9d669dee-5bcb-4df6-b6e8-df071dfdfebf",
   "metadata": {},
   "outputs": [],
   "source": [
    "# 10 "
   ]
  },
  {
   "cell_type": "code",
   "execution_count": 60,
   "id": "7e29f328-566d-4057-a09e-fe910d1c91a0",
   "metadata": {},
   "outputs": [],
   "source": [
    "def func(x):\n",
    "    return 1 - 1/np.tan(x)"
   ]
  },
  {
   "cell_type": "code",
   "execution_count": 80,
   "id": "8078be40-610c-41f3-85b9-5da6ff318f58",
   "metadata": {},
   "outputs": [],
   "source": [
    "def rectangles_formula_helper(a, b, n, func):\n",
    "    x = np.linspace(a, b, n + 1)\n",
    "    res = 0\n",
    "    for i in range(1, n + 1):\n",
    "        res += func((x[i - 1] + x[i])/2)\n",
    "    res *= ((b-a) / n)\n",
    "    return res"
   ]
  },
  {
   "cell_type": "code",
   "execution_count": 85,
   "id": "fd5a7e15-93e5-4e5b-b419-4609f4d7044c",
   "metadata": {},
   "outputs": [],
   "source": [
    "def rectangles_formula(a, b, func, epsilon):\n",
    "    \n",
    "    prev = rectangles_formula_helper(a, b, 2, func)\n",
    "    curr = 0\n",
    "    \n",
    "    for i in range(3, 1001):\n",
    "        curr =  rectangles_formula_helper(a, b, i, func)     \n",
    "        if abs(prev-curr) <= epsilon:\n",
    "            return i - 1   \n",
    "        prev = curr\n",
    "\n",
    "    return 1000"
   ]
  },
  {
   "cell_type": "code",
   "execution_count": 61,
   "id": "a3b56d5e-7b3a-454f-9cb1-6fe99d8e6551",
   "metadata": {},
   "outputs": [],
   "source": [
    "epsilon = 10 ** (-10)"
   ]
  },
  {
   "cell_type": "code",
   "execution_count": 88,
   "id": "624ba072-7400-4e6c-8ec4-76227ba89e21",
   "metadata": {},
   "outputs": [],
   "source": [
    "a = -2"
   ]
  },
  {
   "cell_type": "code",
   "execution_count": 89,
   "id": "8d9adbb4-8926-4163-a373-c495413a8d9e",
   "metadata": {},
   "outputs": [],
   "source": [
    "b = -1"
   ]
  },
  {
   "cell_type": "code",
   "execution_count": 90,
   "id": "718a5b76-f3d0-4e3e-9e52-b759ae34b56d",
   "metadata": {},
   "outputs": [
    {
     "name": "stdout",
     "output_type": "stream",
     "text": [
      "553\n"
     ]
    }
   ],
   "source": [
    "print(rectangles_formula(-2, -1, func, epsilon))"
   ]
  },
  {
   "cell_type": "code",
   "execution_count": null,
   "id": "d523d78b-436c-4419-8816-a78cdee01a93",
   "metadata": {},
   "outputs": [],
   "source": []
  },
  {
   "cell_type": "code",
   "execution_count": null,
   "id": "69215c77-b03f-4c93-9968-46fcffd199fd",
   "metadata": {},
   "outputs": [],
   "source": []
  }
 ],
 "metadata": {
  "kernelspec": {
   "display_name": "Python 3 (ipykernel)",
   "language": "python",
   "name": "python3"
  },
  "language_info": {
   "codemirror_mode": {
    "name": "ipython",
    "version": 3
   },
   "file_extension": ".py",
   "mimetype": "text/x-python",
   "name": "python",
   "nbconvert_exporter": "python",
   "pygments_lexer": "ipython3",
   "version": "3.12.8"
  }
 },
 "nbformat": 4,
 "nbformat_minor": 5
}
