{
 "cells": [
  {
   "cell_type": "code",
   "execution_count": 1,
   "id": "178ed334-8d4f-4ca7-b900-2013fd4a22df",
   "metadata": {},
   "outputs": [],
   "source": [
    "import numpy as np"
   ]
  },
  {
   "cell_type": "code",
   "execution_count": 2,
   "id": "30b27c14-0da6-49e7-a03b-d4d0c81c281b",
   "metadata": {},
   "outputs": [],
   "source": [
    "from sympy import Eq, integrate, symbols, solve, pi, diff"
   ]
  },
  {
   "cell_type": "code",
   "execution_count": 3,
   "id": "86871b72-0b3f-4e5b-9f5a-ca436334a65e",
   "metadata": {},
   "outputs": [],
   "source": [
    "# LSM vector matrix form for algebraic polynomials\n",
    "def create_row(x, n, pow):\n",
    "    row = []\n",
    "    for i in range (0, n+1):\n",
    "        element = sum(x_node ** pow for x_node in x)\n",
    "        row.append(element)\n",
    "        pow+=1\n",
    "    return row\n",
    "    \n",
    "def create_matrix(x, n):\n",
    "    matrix = []\n",
    "    for i in range(0, n+1):\n",
    "        matrix.append(create_row(x, n, i))\n",
    "    return np.array(matrix)\n",
    "\n",
    "def create_vector(x, y, n):\n",
    "    vector = []\n",
    "    for i in range(0, n+1):\n",
    "        curr = sum(y_node * (x_node**i) for (x_node, y_node) in zip(x,y))\n",
    "        vector.append(curr)\n",
    "    return np.array(vector)\n",
    "\n",
    "# n - degree of poly\n",
    "def least_squares_matrix(x, y, n):\n",
    "    matrix = create_matrix(x, n)\n",
    "    vector = create_vector(x, y, n)\n",
    "    sol = np.linalg.solve(matrix, vector)\n",
    "    return sol"
   ]
  },
  {
   "cell_type": "code",
   "execution_count": 19,
   "id": "f2f7719e-7fd0-4ef9-8e1d-9e074bbc4434",
   "metadata": {},
   "outputs": [],
   "source": [
    "# Integration formulas\n",
    "# n - number of subintervals\n",
    "\n",
    "def rectangle_formula(a, b, f, nodes, n):\n",
    "    res = 0\n",
    "    for i in range(1, n + 1):\n",
    "        res += f((nodes[i-1] + nodes[i]) / 2)\n",
    "    res *= (b-a) / n\n",
    "    return res\n",
    "\n",
    "def trapezoid_formula(a, b, f, nodes, n):\n",
    "    res = 0\n",
    "    for i in range(1, n + 1):\n",
    "        res += (f(nodes[i-1]) + f(nodes[i]))\n",
    "    res *= (b-a) / (2*n)\n",
    "    return res\n",
    "\n",
    "def simpson_formula(a, b, f, nodes, n):\n",
    "    res = 0\n",
    "    for i in range(1, n + 1):\n",
    "        res += (f(nodes[i-1]) + 4*f((nodes[i-1] + nodes[i])/2) + f(nodes[i]))\n",
    "    res *= (b-a) / (6*n)\n",
    "    return res"
   ]
  },
  {
   "cell_type": "code",
   "execution_count": 20,
   "id": "38041c42-ccf9-4071-ba62-8a069dcdff33",
   "metadata": {},
   "outputs": [
    {
     "data": {
      "text/plain": [
       "[{A1: 1, A2: 1, x1: -sqrt(3)/3, x2: sqrt(3)/3},\n",
       " {A1: 1, A2: 1, x1: sqrt(3)/3, x2: -sqrt(3)/3}]"
      ]
     },
     "execution_count": 20,
     "metadata": {},
     "output_type": "execute_result"
    }
   ],
   "source": [
    "# Gauss-Legendre 2 nodes\n",
    "x, A1, x1, A2, x2 = symbols('x A1 x1 A2 x2')\n",
    "eq1 = Eq(A1 + A2 , integrate(1, (x, -1, 1)))\n",
    "eq2 = Eq(A1 * x1 + A2 * x2, integrate(x, (x, -1, 1)))\n",
    "eq3 = Eq(A1 * x1**2 + A2 * x2**2, integrate(x**2, (x, -1, 1)))\n",
    "eq4 = Eq(A1 * x1**3 + A2 * x2**3, integrate(x**3, (x, -1, 1)))\n",
    "solutions = solve([eq1, eq2, eq3, eq4])\n",
    "solutions"
   ]
  },
  {
   "cell_type": "code",
   "execution_count": 21,
   "id": "433b61f1-f59f-4b9c-9268-c581427e7918",
   "metadata": {},
   "outputs": [
    {
     "data": {
      "text/plain": [
       "[{A1: 5/9, A2: 5/9, A3: 8/9, x1: -sqrt(15)/5, x2: sqrt(15)/5, x3: 0},\n",
       " {A1: 5/9, A2: 5/9, A3: 8/9, x1: sqrt(15)/5, x2: -sqrt(15)/5, x3: 0},\n",
       " {A1: 5/9, A2: 8/9, A3: 5/9, x1: -sqrt(15)/5, x2: 0, x3: sqrt(15)/5},\n",
       " {A1: 5/9, A2: 8/9, A3: 5/9, x1: sqrt(15)/5, x2: 0, x3: -sqrt(15)/5},\n",
       " {A1: 8/9, A2: 5/9, A3: 5/9, x1: 0, x2: -sqrt(15)/5, x3: sqrt(15)/5},\n",
       " {A1: 8/9, A2: 5/9, A3: 5/9, x1: 0, x2: sqrt(15)/5, x3: -sqrt(15)/5}]"
      ]
     },
     "execution_count": 21,
     "metadata": {},
     "output_type": "execute_result"
    }
   ],
   "source": [
    "# Gauss-Legendre 3 nodes\n",
    "x, A1, x1, A2, x2, A3, x3 = symbols('x, A1, x1, A2, x2, A3, x3')\n",
    "eq1 = Eq(A1 + A2 + A3, integrate(1,(x, -1, 1)))\n",
    "eq2 = Eq(A1*x1 + A2*x2 + A3*x3, integrate(x,(x, -1, 1)))\n",
    "eq3 = Eq(A1*x1**2 + A2*x2**2 + A3*x3**2, integrate(x**2,(x, -1, 1)))\n",
    "eq4 = Eq(A1*x1**3 + A2*x2**3 + A3*x3**3, integrate(x**3,(x, -1, 1)))\n",
    "eq5 = Eq(A1*x1**4 + A2*x2**4 + A3*x3**4, integrate(x**4,(x, -1, 1)))\n",
    "eq6 = Eq(A1*x1**5 + A2*x2**5 + A3*x3**5, integrate(x**5,(x, -1, 1)))\n",
    "solutions = solve([eq1, eq2, eq3, eq4, eq5, eq6])\n",
    "solutions"
   ]
  },
  {
   "cell_type": "code",
   "execution_count": null,
   "id": "9c339d7c-ac55-4feb-8b0b-3d89bdfd0460",
   "metadata": {},
   "outputs": [],
   "source": []
  }
 ],
 "metadata": {
  "kernelspec": {
   "display_name": "Python 3 (ipykernel)",
   "language": "python",
   "name": "python3"
  },
  "language_info": {
   "codemirror_mode": {
    "name": "ipython",
    "version": 3
   },
   "file_extension": ".py",
   "mimetype": "text/x-python",
   "name": "python",
   "nbconvert_exporter": "python",
   "pygments_lexer": "ipython3",
   "version": "3.12.8"
  }
 },
 "nbformat": 4,
 "nbformat_minor": 5
}
