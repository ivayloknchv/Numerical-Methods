{
 "cells": [
  {
   "cell_type": "code",
   "execution_count": 1,
   "id": "914b2c51-67a3-4279-901f-3f5a4401342c",
   "metadata": {},
   "outputs": [],
   "source": [
    "import numpy as np"
   ]
  },
  {
   "cell_type": "code",
   "execution_count": 2,
   "id": "4ccc88db-5ced-4fa9-8235-32949c00b434",
   "metadata": {},
   "outputs": [],
   "source": [
    "import matplotlib.pyplot as plt"
   ]
  },
  {
   "cell_type": "code",
   "execution_count": 26,
   "id": "f3fc4b34-22dc-472f-bab6-3f369ed0403b",
   "metadata": {},
   "outputs": [],
   "source": [
    "from sympy import symbols, Eq, diff, solve, expand"
   ]
  },
  {
   "cell_type": "code",
   "execution_count": 27,
   "id": "84411ee8-1b0e-439b-a27e-d52e536ecdf2",
   "metadata": {},
   "outputs": [],
   "source": [
    "def lin_func(params, x):\n",
    "    return params[0] + params[1] * x"
   ]
  },
  {
   "cell_type": "code",
   "execution_count": 28,
   "id": "ec84925b-fb74-4f34-bcb5-84a6d90e1568",
   "metadata": {},
   "outputs": [],
   "source": [
    "def exp_func(params, x):\n",
    "    return params[0] * (10 ** (params[1] * x))"
   ]
  },
  {
   "cell_type": "code",
   "execution_count": 29,
   "id": "d54f70bb-63d2-48ce-86d8-cface74713ab",
   "metadata": {},
   "outputs": [],
   "source": [
    "nodes = np.array([0.4, 0.8, 1.2, 1.6, 2, 2.3])"
   ]
  },
  {
   "cell_type": "code",
   "execution_count": 30,
   "id": "59a64ada-6b38-4819-809e-0f2fd27111a7",
   "metadata": {},
   "outputs": [],
   "source": [
    "values = np.array([800, 975, 1500, 1950, 2900, 3600])"
   ]
  },
  {
   "cell_type": "code",
   "execution_count": 31,
   "id": "b8bf322f-f449-4a0e-a714-56c63ee812fe",
   "metadata": {},
   "outputs": [],
   "source": [
    "log_values = np.log(values)"
   ]
  },
  {
   "cell_type": "code",
   "execution_count": 32,
   "id": "fd2acd7a-e875-4661-b8e6-93237b5d5a2c",
   "metadata": {},
   "outputs": [],
   "source": [
    "a, b = symbols('a, b')"
   ]
  },
  {
   "cell_type": "code",
   "execution_count": 33,
   "id": "118554ae-081e-4d03-8541-4d5fa349109d",
   "metadata": {},
   "outputs": [],
   "source": [
    "params = (a, b)"
   ]
  },
  {
   "cell_type": "code",
   "execution_count": 34,
   "id": "b39d12f0-0443-4fb4-8da5-e9682c1d7bea",
   "metadata": {},
   "outputs": [],
   "source": [
    "phi = 0"
   ]
  },
  {
   "cell_type": "code",
   "execution_count": 39,
   "id": "495cfe01-415f-4ed0-9cc7-1dd078656360",
   "metadata": {},
   "outputs": [],
   "source": [
    "for node, val in zip(nodes, log_values):\n",
    "    phi += (val - lin_func(params, node))**2"
   ]
  },
  {
   "cell_type": "code",
   "execution_count": 46,
   "id": "65261bbc-601b-4ec9-bb96-5bd1edf0ce95",
   "metadata": {},
   "outputs": [],
   "source": [
    "eq1 = Eq(diff(phi, a), 0)"
   ]
  },
  {
   "cell_type": "code",
   "execution_count": 43,
   "id": "5b6a637d-b3b0-47a3-a0f8-138cb262994e",
   "metadata": {},
   "outputs": [],
   "source": [
    "eq2 = Eq(diff(phi, b), 0)"
   ]
  },
  {
   "cell_type": "code",
   "execution_count": 49,
   "id": "d94f3835-a87b-42ad-9815-f022205da729",
   "metadata": {},
   "outputs": [],
   "source": [
    "solutions = solve([eq1, eq2])"
   ]
  },
  {
   "cell_type": "code",
   "execution_count": 50,
   "id": "896f68e4-b902-45e0-96e5-dc5be24aa966",
   "metadata": {},
   "outputs": [
    {
     "data": {
      "text/plain": [
       "{a: 6.30370069712763, b: 0.818651228309276}"
      ]
     },
     "execution_count": 50,
     "metadata": {},
     "output_type": "execute_result"
    }
   ],
   "source": [
    "solutions"
   ]
  },
  {
   "cell_type": "code",
   "execution_count": 52,
   "id": "49105f25-2256-4564-9360-91c9cb090f08",
   "metadata": {},
   "outputs": [],
   "source": [
    "a_coeff = np.e ** solutions[a]"
   ]
  },
  {
   "cell_type": "code",
   "execution_count": 54,
   "id": "ceb5d5da-0015-44b8-894d-428e94fef383",
   "metadata": {},
   "outputs": [],
   "source": [
    "b_coeff = solutions[b] / np.log(10)"
   ]
  },
  {
   "cell_type": "code",
   "execution_count": 66,
   "id": "2b70196c-db65-460a-ab3b-74b7c446148f",
   "metadata": {},
   "outputs": [],
   "source": [
    "final_coeffs = (a_coeff, b_coeff)"
   ]
  },
  {
   "cell_type": "code",
   "execution_count": 60,
   "id": "218ede33-656d-4aab-9c53-eb3d1920c2d0",
   "metadata": {},
   "outputs": [],
   "source": [
    "x_axis = np.linspace(min(nodes), max(nodes), 1000)"
   ]
  },
  {
   "cell_type": "code",
   "execution_count": 61,
   "id": "edc9a9ab-d999-45d3-8461-8e9dd7b20fde",
   "metadata": {},
   "outputs": [],
   "source": [
    "y_axis = exp_func(final_coeffs, x_axis)"
   ]
  },
  {
   "cell_type": "code",
   "execution_count": 64,
   "id": "8b6694b5-02f1-4972-9144-d9769efe12cc",
   "metadata": {},
   "outputs": [
    {
     "data": {
      "image/png": "[encoded data removed]",
      "text/plain": [
       "<Figure size 640x480 with 1 Axes>"
      ]
     },
     "metadata": {},
     "output_type": "display_data"
    }
   ],
   "source": [
    "plt.scatter(nodes, values)\n",
    "plt.plot(x_axis, y_axis)\n",
    "plt.show()"
   ]
  },
  {
   "cell_type": "code",
   "execution_count": null,
   "id": "c7416b48-cfc8-4873-83bc-0abf214fe1c3",
   "metadata": {},
   "outputs": [],
   "source": []
  }
 ],
 "metadata": {
  "kernelspec": {
   "display_name": "Python 3 (ipykernel)",
   "language": "python",
   "name": "python3"
  },
  "language_info": {
   "codemirror_mode": {
    "name": "ipython",
    "version": 3
   },
   "file_extension": ".py",
   "mimetype": "text/x-python",
   "name": "python",
   "nbconvert_exporter": "python",
   "pygments_lexer": "ipython3",
   "version": "3.12.8"
  }
 },
 "nbformat": 4,
 "nbformat_minor": 5
}
