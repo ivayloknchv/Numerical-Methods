{
 "cells": [
  {
   "cell_type": "code",
   "execution_count": 1,
   "id": "8b9a93fe-d1e2-42c1-a4da-22051c0da61f",
   "metadata": {},
   "outputs": [],
   "source": [
    "import numpy as np"
   ]
  },
  {
   "cell_type": "code",
   "execution_count": 2,
   "id": "9fe1842c-c24c-4dd3-af3a-5e08154c99ce",
   "metadata": {},
   "outputs": [],
   "source": [
    "from sympy import symbols, Eq, integrate, solve"
   ]
  },
  {
   "cell_type": "code",
   "execution_count": 3,
   "id": "d0df928a-0c20-42c2-b560-ee465393d692",
   "metadata": {},
   "outputs": [],
   "source": [
    "def f(x):\n",
    "    return np.e ** np.sin(x) - 2 * x**2"
   ]
  },
  {
   "cell_type": "code",
   "execution_count": 4,
   "id": "19e106cb-a451-446c-b410-8bc933b7fc98",
   "metadata": {},
   "outputs": [],
   "source": [
    "def g(x):\n",
    "    return 0.5 * f(0.5 * x + 0.5)"
   ]
  },
  {
   "cell_type": "code",
   "execution_count": 5,
   "id": "e2541360-817b-4d6c-b92e-45258ac886f2",
   "metadata": {},
   "outputs": [],
   "source": [
    "def gauss_legendre_3_nodes(g):\n",
    "    return 5/9 * g(-np.sqrt(3/5)) + 8/9 * g(0) +  5/9 * g(np.sqrt(3/5))"
   ]
  },
  {
   "cell_type": "code",
   "execution_count": 7,
   "id": "d836292e-2b6a-4b4a-84a7-9e84ce4dd9d8",
   "metadata": {},
   "outputs": [
    {
     "name": "stdout",
     "output_type": "stream",
     "text": [
      "0.9651825620977151\n"
     ]
    }
   ],
   "source": [
    "print(gauss_legendre_3_nodes(g))"
   ]
  },
  {
   "cell_type": "code",
   "execution_count": null,
   "id": "7eaf1539-0c6f-4ca8-b6bc-fc1cdfd2ed71",
   "metadata": {},
   "outputs": [],
   "source": []
  }
 ],
 "metadata": {
  "kernelspec": {
   "display_name": "Python 3 (ipykernel)",
   "language": "python",
   "name": "python3"
  },
  "language_info": {
   "codemirror_mode": {
    "name": "ipython",
    "version": 3
   },
   "file_extension": ".py",
   "mimetype": "text/x-python",
   "name": "python",
   "nbconvert_exporter": "python",
   "pygments_lexer": "ipython3",
   "version": "3.12.8"
  }
 },
 "nbformat": 4,
 "nbformat_minor": 5
}
