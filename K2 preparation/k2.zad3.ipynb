{
 "cells": [
  {
   "cell_type": "code",
   "execution_count": 1,
   "id": "1ec495c2-6895-437b-ba53-cc462aeb8d12",
   "metadata": {},
   "outputs": [],
   "source": [
    "import numpy as np"
   ]
  },
  {
   "cell_type": "code",
   "execution_count": 2,
   "id": "11ca634b-035a-4a89-bcfd-40d9c4b402a4",
   "metadata": {},
   "outputs": [],
   "source": [
    "import matplotlib.pyplot as plt"
   ]
  },
  {
   "cell_type": "code",
   "execution_count": 3,
   "id": "d891a769-bed2-4b7c-b08a-b1d51759ca22",
   "metadata": {},
   "outputs": [],
   "source": [
    "from sympy import symbols, diff, Eq, solve, expand"
   ]
  },
  {
   "cell_type": "code",
   "execution_count": 8,
   "id": "079bc676-0067-4326-99c7-b80a3695e3a6",
   "metadata": {},
   "outputs": [],
   "source": [
    "def original_function(params, x):\n",
    "    a, b = params[0], params[1]\n",
    "    return a * x ** b "
   ]
  },
  {
   "cell_type": "code",
   "execution_count": 5,
   "id": "c691e7db-4050-4ab1-b80c-56d8272f36c2",
   "metadata": {},
   "outputs": [],
   "source": [
    "def reworked_function(params, x):\n",
    "    a, b = params[0], params[1]\n",
    "    return a + b * np.log(x)"
   ]
  },
  {
   "cell_type": "code",
   "execution_count": 9,
   "id": "985f8dd1-a8b7-42b0-8eba-e5224dc9f6e3",
   "metadata": {},
   "outputs": [],
   "source": [
    "nodes = np.array([2.5, 3.5, 5, 6, 7.5, 10, 12.5, 15, 17.5, 20])"
   ]
  },
  {
   "cell_type": "code",
   "execution_count": 10,
   "id": "ecfe7be4-35ad-4f27-951a-80edf8d067bd",
   "metadata": {},
   "outputs": [],
   "source": [
    "values = np.array([13, 11, 8.5, 8.2, 7, 6.2, 5.2, 4.8, 4.6, 4.3])"
   ]
  },
  {
   "cell_type": "code",
   "execution_count": 11,
   "id": "057cb059-2651-4cfc-93e3-9a276f7da3bf",
   "metadata": {},
   "outputs": [],
   "source": [
    "log_values = np.log(values)"
   ]
  },
  {
   "cell_type": "code",
   "execution_count": 13,
   "id": "da40d2dc-53c1-43ef-a9e4-854d99a5d2ec",
   "metadata": {},
   "outputs": [],
   "source": [
    "a, b = symbols('a, b')\n",
    "params = (a, b)"
   ]
  },
  {
   "cell_type": "code",
   "execution_count": 14,
   "id": "addc373e-d44e-4d71-a9ba-c08f0cdd4f19",
   "metadata": {},
   "outputs": [],
   "source": [
    "phi = 0"
   ]
  },
  {
   "cell_type": "code",
   "execution_count": 17,
   "id": "51f9fa98-8775-43f8-bd80-91841f7d5979",
   "metadata": {},
   "outputs": [],
   "source": [
    "for node, val in zip(nodes, log_values):\n",
    "    phi += (val - reworked_function(params, node))**2"
   ]
  },
  {
   "cell_type": "code",
   "execution_count": 20,
   "id": "efd1a304-3a40-49c2-b8f2-12d0105cbc13",
   "metadata": {},
   "outputs": [],
   "source": [
    "eq1 = Eq(diff(phi, a), 0)"
   ]
  },
  {
   "cell_type": "code",
   "execution_count": 22,
   "id": "39933f0e-bafa-4c78-8955-120e665202e6",
   "metadata": {},
   "outputs": [],
   "source": [
    "eq2 = Eq(diff(phi, b), 0)"
   ]
  },
  {
   "cell_type": "code",
   "execution_count": 24,
   "id": "f10bbb8a-25d4-4526-b812-3e8871eb6623",
   "metadata": {},
   "outputs": [],
   "source": [
    "solutions = solve([eq1, eq2])"
   ]
  },
  {
   "cell_type": "code",
   "execution_count": 35,
   "id": "a54f13e6-1413-44fe-a7ef-7a88d2216d9a",
   "metadata": {},
   "outputs": [],
   "source": [
    "new_coeffs = np.e**solutions[a], solutions[b]"
   ]
  },
  {
   "cell_type": "code",
   "execution_count": 30,
   "id": "d3c93f5d-c048-465e-90ab-e42dc89c58ac",
   "metadata": {},
   "outputs": [],
   "source": [
    "x_axis = np.linspace(min(nodes), max(nodes), 1000)"
   ]
  },
  {
   "cell_type": "code",
   "execution_count": 31,
   "id": "755d5e8a-af0a-495f-809c-777356348eac",
   "metadata": {},
   "outputs": [],
   "source": [
    "y_axis = original_function(new_coeffs, x_axis)"
   ]
  },
  {
   "cell_type": "code",
   "execution_count": 36,
   "id": "80fcc3bf-31f3-4284-ae7b-94fdb34c1ed6",
   "metadata": {},
   "outputs": [
    {
     "data": {
      "image/png": "[encoded data removed]",
      "text/plain": [
       "<Figure size 640x480 with 1 Axes>"
      ]
     },
     "metadata": {},
     "output_type": "display_data"
    }
   ],
   "source": [
    "plt.scatter(nodes, values)\n",
    "plt.plot(x_axis, y_axis)\n",
    "plt.show()"
   ]
  },
  {
   "cell_type": "code",
   "execution_count": 37,
   "id": "71ceef86-0142-4629-866d-0e7a808b870b",
   "metadata": {},
   "outputs": [
    {
     "name": "stdout",
     "output_type": "stream",
     "text": [
      "6.45145295270160\n"
     ]
    }
   ],
   "source": [
    "print(original_function(new_coeffs, 9))"
   ]
  },
  {
   "cell_type": "code",
   "execution_count": null,
   "id": "660f24fa-fb9e-4b68-93f9-d2aecd4f374f",
   "metadata": {},
   "outputs": [],
   "source": []
  }
 ],
 "metadata": {
  "kernelspec": {
   "display_name": "Python 3 (ipykernel)",
   "language": "python",
   "name": "python3"
  },
  "language_info": {
   "codemirror_mode": {
    "name": "ipython",
    "version": 3
   },
   "file_extension": ".py",
   "mimetype": "text/x-python",
   "name": "python",
   "nbconvert_exporter": "python",
   "pygments_lexer": "ipython3",
   "version": "3.12.8"
  }
 },
 "nbformat": 4,
 "nbformat_minor": 5
}
