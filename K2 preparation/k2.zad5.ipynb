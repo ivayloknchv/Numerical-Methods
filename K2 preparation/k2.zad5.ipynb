{
 "cells": [
  {
   "cell_type": "code",
   "execution_count": 1,
   "id": "7af6d7fa-f4c8-4a2c-ac70-6a43409037d6",
   "metadata": {},
   "outputs": [],
   "source": [
    "import numpy as np"
   ]
  },
  {
   "cell_type": "code",
   "execution_count": 3,
   "id": "7002965d-da7a-4575-a936-7dbc74674d61",
   "metadata": {},
   "outputs": [],
   "source": [
    "import matplotlib.pyplot as plt"
   ]
  },
  {
   "cell_type": "code",
   "execution_count": 4,
   "id": "91ae97be-ef25-441f-a77e-e9758ecf8f8e",
   "metadata": {},
   "outputs": [],
   "source": [
    "from sympy import symbols, Eq, diff, expand, solve"
   ]
  },
  {
   "cell_type": "code",
   "execution_count": 5,
   "id": "b31baf78-1f29-420e-916c-6e4fbdf74530",
   "metadata": {},
   "outputs": [],
   "source": [
    "def original_function(coeffs, x):\n",
    "    k, c = coeffs[0], coeffs[1]\n",
    "    return (k * x ** 2) / (c + x ** 2)"
   ]
  },
  {
   "cell_type": "code",
   "execution_count": 6,
   "id": "e3d7464c-9004-4936-a0d5-f4eace73309e",
   "metadata": {},
   "outputs": [],
   "source": [
    "def reworked_function(coeffs, x):\n",
    "    a, b = coeffs[0], coeffs[1]\n",
    "    return a + b * x"
   ]
  },
  {
   "cell_type": "code",
   "execution_count": 7,
   "id": "584f991f-1d3a-4571-a9e6-12413ccc044d",
   "metadata": {},
   "outputs": [],
   "source": [
    "nodes = np.array([0.5, 0.8, 1.5, 2.5, 4])"
   ]
  },
  {
   "cell_type": "code",
   "execution_count": 8,
   "id": "94c88c65-7d1e-4950-b549-2da6cbe90848",
   "metadata": {},
   "outputs": [],
   "source": [
    "values = np.array([1.1, 2.4, 5.3, 7.6, 8.9])"
   ]
  },
  {
   "cell_type": "code",
   "execution_count": 9,
   "id": "0dae6607-2f3d-437c-8b7b-d14227980d98",
   "metadata": {},
   "outputs": [],
   "source": [
    "transformed_nodes = np.array([1/node**2 for node in nodes])"
   ]
  },
  {
   "cell_type": "code",
   "execution_count": 10,
   "id": "6426db0a-5751-42d9-847c-13cace046e19",
   "metadata": {},
   "outputs": [],
   "source": [
    "transformed_values = np.array([1/value for value in values])"
   ]
  },
  {
   "cell_type": "code",
   "execution_count": 11,
   "id": "0b5a6d97-ce38-40e1-aa13-263db959c114",
   "metadata": {},
   "outputs": [],
   "source": [
    "a, b = symbols('a, b')\n",
    "coeffs = (a, b)"
   ]
  },
  {
   "cell_type": "code",
   "execution_count": 12,
   "id": "79dc5beb-4589-46bc-a6bf-554a7402e18e",
   "metadata": {},
   "outputs": [],
   "source": [
    "phi = 0"
   ]
  },
  {
   "cell_type": "code",
   "execution_count": 14,
   "id": "f30f9a28-5f4e-4dfa-a834-eed111f946dc",
   "metadata": {},
   "outputs": [],
   "source": [
    "for node, val in zip(transformed_nodes, transformed_values):\n",
    "    phi += (val - reworked_function(coeffs, node)) ** 2"
   ]
  },
  {
   "cell_type": "code",
   "execution_count": 16,
   "id": "3365cd8e-6b36-4db8-880f-8ca5d333343e",
   "metadata": {},
   "outputs": [],
   "source": [
    "eq1 = Eq(diff(phi, a), 0)"
   ]
  },
  {
   "cell_type": "code",
   "execution_count": 18,
   "id": "66fba88b-3ff3-4904-8617-337fc5a8edd3",
   "metadata": {},
   "outputs": [],
   "source": [
    "eq2 = Eq(diff(phi, b), 0)"
   ]
  },
  {
   "cell_type": "code",
   "execution_count": 19,
   "id": "29db6424-49ed-4d93-9b70-424054130a64",
   "metadata": {},
   "outputs": [],
   "source": [
    "sols = solve([eq1, eq2])"
   ]
  },
  {
   "cell_type": "code",
   "execution_count": 30,
   "id": "0ea6ee95-c0d6-419c-b118-892fb1409a14",
   "metadata": {},
   "outputs": [],
   "source": [
    "new_coeffs = (1/sols[a], sols[b]/sols[a])"
   ]
  },
  {
   "cell_type": "code",
   "execution_count": 23,
   "id": "85f16f5a-074f-443d-b747-a81590997e32",
   "metadata": {},
   "outputs": [],
   "source": [
    "x_axis = np.linspace(min(nodes), max(values))"
   ]
  },
  {
   "cell_type": "code",
   "execution_count": 25,
   "id": "f066ca7e-1a9f-4f22-afdd-72a29f924fc2",
   "metadata": {},
   "outputs": [],
   "source": [
    "y_axis = original_function(new_coeffs, x_axis)"
   ]
  },
  {
   "cell_type": "code",
   "execution_count": 27,
   "id": "9964bf17-dd03-4182-945c-95248c1caa09",
   "metadata": {},
   "outputs": [
    {
     "data": {
      "text/plain": [
       "[<matplotlib.lines.Line2D at 0x1acf1637020>]"
      ]
     },
     "execution_count": 27,
     "metadata": {},
     "output_type": "execute_result"
    },
    {
     "data": {
      "image/png": "[encoded data removed]",
      "text/plain": [
       "<Figure size 640x480 with 1 Axes>"
      ]
     },
     "metadata": {},
     "output_type": "display_data"
    }
   ],
   "source": [
    "plt.scatter(nodes, values)\n",
    "plt.plot(x_axis, y_axis)"
   ]
  },
  {
   "cell_type": "code",
   "execution_count": null,
   "id": "922f8d07-4d02-44e9-90f4-228afd79ca04",
   "metadata": {},
   "outputs": [],
   "source": []
  }
 ],
 "metadata": {
  "kernelspec": {
   "display_name": "Python 3 (ipykernel)",
   "language": "python",
   "name": "python3"
  },
  "language_info": {
   "codemirror_mode": {
    "name": "ipython",
    "version": 3
   },
   "file_extension": ".py",
   "mimetype": "text/x-python",
   "name": "python",
   "nbconvert_exporter": "python",
   "pygments_lexer": "ipython3",
   "version": "3.12.8"
  }
 },
 "nbformat": 4,
 "nbformat_minor": 5
}
