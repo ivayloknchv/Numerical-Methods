{
 "cells": [
  {
   "cell_type": "code",
   "execution_count": 1,
   "id": "b401fb39-9bcc-4dd0-ae2a-167f8a1185e8",
   "metadata": {},
   "outputs": [],
   "source": [
    "import numpy as np"
   ]
  },
  {
   "cell_type": "code",
   "execution_count": 4,
   "id": "50da52ed-4ec0-49f1-b72e-6be39a0edc81",
   "metadata": {},
   "outputs": [],
   "source": [
    "import matplotlib.pyplot as plt"
   ]
  },
  {
   "cell_type": "code",
   "execution_count": 10,
   "id": "07a02418-0171-436c-9db9-94d86781c43d",
   "metadata": {},
   "outputs": [],
   "source": [
    "from sympy import Symbol, symbols, Eq, solve, diff"
   ]
  },
  {
   "cell_type": "code",
   "execution_count": 11,
   "id": "da61716d-6db4-423e-87b9-900f7e61d425",
   "metadata": {},
   "outputs": [],
   "source": [
    "x = Symbol('x')"
   ]
  },
  {
   "cell_type": "code",
   "execution_count": 16,
   "id": "bf145e4b-9548-48a7-a8c3-b476a1702ba9",
   "metadata": {},
   "outputs": [],
   "source": [
    "a, b, c, d, e = symbols('a, b, c, d, e')\n",
    "params = (a,b,c,d,e)"
   ]
  },
  {
   "cell_type": "code",
   "execution_count": 17,
   "id": "fa0e1e7a-1124-4fb1-bc48-a4343e8e8734",
   "metadata": {},
   "outputs": [],
   "source": [
    "def poly(x, params):\n",
    "    a,b,c,d,e = params\n",
    "    return a*x**4 + b*x**3 + c*x**2 + d*x + e"
   ]
  },
  {
   "cell_type": "code",
   "execution_count": 41,
   "id": "d55534b6-63dd-4d0f-8b28-17af383aa1df",
   "metadata": {},
   "outputs": [],
   "source": [
    "primitive = poly(x, params)\n",
    "first_der = diff(poly(x, params), x)"
   ]
  },
  {
   "cell_type": "code",
   "execution_count": 43,
   "id": "3df53b13-c0cf-441f-951a-de0a67b48eb6",
   "metadata": {},
   "outputs": [],
   "source": [
    "eq1 = Eq(primitive.subs(x,0), 1)\n",
    "eq2 = Eq(first_der.subs(x,0), 0)\n",
    "eq3 = Eq(primitive.subs(x,1), 2)\n",
    "eq4 = Eq(first_der.subs(x,1), 6)\n",
    "eq5 = Eq(primitive.subs(x,2), 21)"
   ]
  },
  {
   "cell_type": "code",
   "execution_count": 48,
   "id": "e72f81a6-bdd1-4280-83d9-18922ab53376",
   "metadata": {},
   "outputs": [
    {
     "data": {
      "text/plain": [
       "{a: 0, b: 4, c: -3, d: 0, e: 1}"
      ]
     },
     "execution_count": 48,
     "metadata": {},
     "output_type": "execute_result"
    }
   ],
   "source": [
    "solutions = solve((eq1,eq2,eq3,eq4,eq5), (params))\n",
    "solutions"
   ]
  },
  {
   "cell_type": "code",
   "execution_count": 53,
   "id": "aacbd89d-c9aa-4be5-ae40-6715cb256da6",
   "metadata": {},
   "outputs": [
    {
     "data": {
      "text/latex": [
       "$\\displaystyle 4 x^{3} - 3 x^{2} + 1$"
      ],
      "text/plain": [
       "4*x**3 - 3*x**2 + 1"
      ]
     },
     "execution_count": 53,
     "metadata": {},
     "output_type": "execute_result"
    }
   ],
   "source": [
    "result_poly = poly(x, solutions.values())\n",
    "result_poly"
   ]
  },
  {
   "cell_type": "code",
   "execution_count": null,
   "id": "04b95091-ef65-4e03-a4d4-8a887deb13fe",
   "metadata": {},
   "outputs": [],
   "source": [
    "x_axis = "
   ]
  }
 ],
 "metadata": {
  "kernelspec": {
   "display_name": "Python 3 (ipykernel)",
   "language": "python",
   "name": "python3"
  },
  "language_info": {
   "codemirror_mode": {
    "name": "ipython",
    "version": 3
   },
   "file_extension": ".py",
   "mimetype": "text/x-python",
   "name": "python",
   "nbconvert_exporter": "python",
   "pygments_lexer": "ipython3",
   "version": "3.12.8"
  }
 },
 "nbformat": 4,
 "nbformat_minor": 5
}
