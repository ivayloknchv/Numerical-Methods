{
 "cells": [
  {
   "cell_type": "code",
   "execution_count": 1,
   "id": "f094bd88-e8c2-45e6-942a-ea5bdc52b440",
   "metadata": {},
   "outputs": [],
   "source": [
    "import numpy as np"
   ]
  },
  {
   "cell_type": "code",
   "execution_count": 4,
   "id": "96b7a3f4-8e42-4076-bda2-f6528562b30e",
   "metadata": {},
   "outputs": [],
   "source": [
    "# Lagrange"
   ]
  },
  {
   "cell_type": "code",
   "execution_count": 3,
   "id": "6cf19894-8a55-4d71-a64c-ddebf6febb88",
   "metadata": {},
   "outputs": [],
   "source": [
    "def calc_basis_poly(nodes, k, x):\n",
    "    res = 1\n",
    "    for i in range(len(nodes)):\n",
    "        if(i!=k):\n",
    "            res*=(x-nodes[i])/(nodes[k]-nodes[i])\n",
    "    return res\n",
    "\n",
    "def lagrange_poly(nodes, values, x):\n",
    "    res = 0\n",
    "    for i in range(len(nodes)):\n",
    "        res += values[i] * calc_basis_poly(nodes, i, x)\n",
    "    return res"
   ]
  },
  {
   "cell_type": "code",
   "execution_count": 5,
   "id": "2083d334-bd41-44ff-847e-4c4f93d20da0",
   "metadata": {},
   "outputs": [],
   "source": [
    "# Divided Differences - Normal Formula"
   ]
  },
  {
   "cell_type": "code",
   "execution_count": 6,
   "id": "4d891d50-6f63-4b3a-8936-d6986c50d848",
   "metadata": {},
   "outputs": [],
   "source": [
    "def divided_difference(nodes, values):\n",
    "    if len(nodes) == 1:\n",
    "        return values[0]\n",
    "    return (divided_difference(nodes[1::], values[1::]) - divided_difference(nodes[0:-1:], values[0:-1:])) / (nodes[-1] - nodes[0])"
   ]
  },
  {
   "cell_type": "code",
   "execution_count": 7,
   "id": "47103ffd-1120-439d-bbcb-bc8297ebca97",
   "metadata": {},
   "outputs": [],
   "source": [
    "# Newton"
   ]
  },
  {
   "cell_type": "code",
   "execution_count": 9,
   "id": "3fc2f9dc-a2f1-4e1b-9f57-5a698a8cccde",
   "metadata": {},
   "outputs": [],
   "source": [
    "def newton_poly(nodes, values, x):\n",
    "    res = 0\n",
    "    multiplier = 1\n",
    "    n = len(nodes)\n",
    "    \n",
    "    for k in range(0, n):\n",
    "        current = divided_difference(nodes[0:k+1], values[0:k+1])*multiplier\n",
    "        res+=current\n",
    "        multiplier *= (x-nodes[k])\n",
    "        \n",
    "    return res   "
   ]
  },
  {
   "cell_type": "code",
   "execution_count": 11,
   "id": "d4c08aa2-56bc-4921-9e62-bcea3b589f54",
   "metadata": {},
   "outputs": [],
   "source": [
    "# Divided Difference - Extended Formula"
   ]
  },
  {
   "cell_type": "code",
   "execution_count": 12,
   "id": "913007ea-267c-4e49-b5a1-80d281fe360b",
   "metadata": {},
   "outputs": [],
   "source": [
    "def divided_difference_extended(nodes, values, l, r):\n",
    "    if nodes[l] == nodes[r]:\n",
    "        return values[np.argmax(nodes == nodes[l]) + r - l] / math.factorial(r-l)\n",
    "    return (divided_difference_extended(nodes, values, l+1, r) - divided_difference_extended(nodes, values, l, r - 1)) / (nodes[r] - nodes[l])"
   ]
  },
  {
   "cell_type": "code",
   "execution_count": 13,
   "id": "7909fdad-a8a7-4f38-85ca-e68e39c16bf9",
   "metadata": {},
   "outputs": [],
   "source": [
    "# Hermite"
   ]
  },
  {
   "cell_type": "code",
   "execution_count": 15,
   "id": "5e652a9a-9bf9-4087-b0aa-17e71b106239",
   "metadata": {},
   "outputs": [],
   "source": [
    "def hermite_poly(nodes, values, x):\n",
    "    res = 0\n",
    "    multiplier = 1\n",
    "    \n",
    "    for i in range(len(nodes)):\n",
    "        res += divided_diff_extended(nodes, values, 0, i) *  multiplier\n",
    "        multiplier *= (x - nodes[i])\n",
    "        \n",
    "    return res"
   ]
  },
  {
   "cell_type": "code",
   "execution_count": 92,
   "id": "b03b2fc3-6f75-43d1-9d62-1475ae9a82dd",
   "metadata": {},
   "outputs": [],
   "source": [
    "# Newton Forward TODO"
   ]
  },
  {
   "cell_type": "code",
   "execution_count": 93,
   "id": "41351be1-b7a0-4b6f-9223-0c8598c276e7",
   "metadata": {},
   "outputs": [],
   "source": [
    "def newton_forward(n, x0, h, f):\n",
    "    nodes = np.linspace(x0, x0 + n*h, n+1)\n",
    "    values  = np.array(f(nodes))"
   ]
  },
  {
   "cell_type": "code",
   "execution_count": 94,
   "id": "1d098f7a-67e8-497d-9663-68bd283fc79e",
   "metadata": {},
   "outputs": [],
   "source": [
    "# Exponential Basis Interpolation"
   ]
  },
  {
   "cell_type": "code",
   "execution_count": 95,
   "id": "56ca1d2d-956b-4ba5-a8a9-35c72c6f6beb",
   "metadata": {},
   "outputs": [],
   "source": [
    "def create_matrix(nodes):\n",
    "    matrix = []\n",
    "    \n",
    "    for node in nodes:\n",
    "        current_row = []\n",
    "\n",
    "        for i in range(len(nodes)):\n",
    "            current_row.append(np.e ** (i*node))\n",
    "        matrix.append(current_row)\n",
    "\n",
    "    return np.array(matrix)"
   ]
  },
  {
   "cell_type": "code",
   "execution_count": 96,
   "id": "b861d405-60e1-489f-bd36-2ae7efcbf825",
   "metadata": {},
   "outputs": [],
   "source": [
    "def calc_exponential_poly(poly_coeffs, x):\n",
    "    res = 0\n",
    "    for i in range(len(poly_coeffs)):\n",
    "        res += poly_coeffs[i] * np.exp(i * x)\n",
    "    return res"
   ]
  },
  {
   "cell_type": "code",
   "execution_count": 97,
   "id": "59542627-446e-466a-92d3-3db7574f5a1c",
   "metadata": {},
   "outputs": [],
   "source": [
    "# Trigonometric Basis Poly - 1st Way"
   ]
  },
  {
   "cell_type": "code",
   "execution_count": 98,
   "id": "b8670991-57b3-4951-86e9-4c3ad804655d",
   "metadata": {},
   "outputs": [],
   "source": [
    "def create_matrix(nodes):\n",
    "    matrix = []\n",
    "    for node in nodes:\n",
    "        row = [1]\n",
    "        mult = 1\n",
    "        for i in range(1, len(nodes)):\n",
    "            if i % 2 == 1:\n",
    "                row.append(np.cos(mult*node))\n",
    "            else:\n",
    "                row.append(np.sin(mult*node))\n",
    "                mult += 1\n",
    "        matrix.append(row)\n",
    "    return np.array(matrix)"
   ]
  },
  {
   "cell_type": "code",
   "execution_count": 99,
   "id": "c4a33ea7-d403-4437-ba88-2987cddc64fe",
   "metadata": {},
   "outputs": [],
   "source": [
    "def calc_trig_poly(coeffs, x):\n",
    "    res = coeffs[0]\n",
    "    mult = 1\n",
    "    for i in range(1, len(coeffs)):\n",
    "        if i % 2 == 1:\n",
    "            res += coeffs[i]*np.cos(mult*x)\n",
    "        else:\n",
    "            res += coeffs[i]*np.sin(mult*x)\n",
    "            mult += 1\n",
    "    return res"
   ]
  },
  {
   "cell_type": "code",
   "execution_count": 100,
   "id": "b3dd6004-7682-4488-8632-b956554a9882",
   "metadata": {},
   "outputs": [],
   "source": [
    "# Trigonometric Basis Poly - 2nd Way (Maybe the better one)"
   ]
  },
  {
   "cell_type": "code",
   "execution_count": 101,
   "id": "803fe1b8-7cd1-4677-8fbf-11350f64df4e",
   "metadata": {},
   "outputs": [],
   "source": [
    "def create_matrix(nodes):\n",
    "    matrix = []\n",
    "\n",
    "    for node in nodes:\n",
    "        row = []\n",
    "        for i in range(0,len(nodes)):\n",
    "            if i == 0: \n",
    "                row.append(1)\n",
    "            elif i % 2 == 1:\n",
    "                row.append(np.cos((i // 2 + 1) * node))\n",
    "            else:\n",
    "                row.append(np.sin((i // 2) * node))\n",
    "        matrix.append(row)\n",
    "\n",
    "    return np.array(matrix)"
   ]
  },
  {
   "cell_type": "code",
   "execution_count": 102,
   "id": "b3d98011-ecca-419c-97c6-75e91357fa4d",
   "metadata": {},
   "outputs": [],
   "source": [
    "# Another Basis:"
   ]
  },
  {
   "cell_type": "code",
   "execution_count": 103,
   "id": "05be4b33-485e-4dde-a9fd-d72ab19c5823",
   "metadata": {},
   "outputs": [],
   "source": [
    "def create_matrix(nodes, basis):\n",
    "    matrix = []\n",
    "\n",
    "    for node in nodes:\n",
    "        row = []\n",
    "        for i in range(len(nodes)):\n",
    "            row.append(basis(i, node))\n",
    "        matrix.append(row)\n",
    "    return np.array(matrix)"
   ]
  },
  {
   "cell_type": "code",
   "execution_count": 104,
   "id": "f9e5decd-3a5c-4c0d-8674-152b112562bf",
   "metadata": {},
   "outputs": [],
   "source": [
    "def calc_poly(coeffs, x, basis):\n",
    "    res = 0\n",
    "    for i, coeff in enumerate(coeffs):\n",
    "        res += coeff * basis(i, x)\n",
    "    return res"
   ]
  },
  {
   "cell_type": "code",
   "execution_count": 105,
   "id": "bf691a35-4381-4e05-9554-c5078a76717d",
   "metadata": {},
   "outputs": [],
   "source": [
    "# Lagrange Analogue for Trig Basis"
   ]
  },
  {
   "cell_type": "code",
   "execution_count": 106,
   "id": "a21e2435-74ea-4d49-9179-e5c4aa4e283d",
   "metadata": {},
   "outputs": [],
   "source": [
    "def calc_basis_func(nodes, k, x):\n",
    "    res = 1\n",
    "    for idx, node in enumerate(nodes):\n",
    "        if idx != k:\n",
    "            res *= np.sin((x-node)/2) / np.sin((nodes[k]-node)/2)\n",
    "    return res\n",
    "    \n",
    "def calc_trig_poly(nodes, values, x):\n",
    "    res = 0\n",
    "    for i in range(len(values)):\n",
    "        res = values[i] * calc_basis_func(nodes, i, x)\n",
    "    return res"
   ]
  },
  {
   "cell_type": "code",
   "execution_count": 107,
   "id": "b38c9842-2b4f-4e00-bcf5-fdf8566889a2",
   "metadata": {},
   "outputs": [],
   "source": [
    "# Chebyshev Nodes - 2 Ways"
   ]
  },
  {
   "cell_type": "code",
   "execution_count": 108,
   "id": "169ac724-f143-45dd-a822-3884b95baf08",
   "metadata": {},
   "outputs": [],
   "source": [
    "n = 4 # degree of poly is 4 but we need n+1 nodes!!!!!\n",
    "chebyshev_nodes = np.empty(n+1)\n",
    "for k in range(n+1):\n",
    "    chebyshev_nodes[k] = np.cos((2 * (k + 1) - 1) / (2 * (n+1)) * np.pi)\n",
    "\n",
    "nodes = np.array([np.cos(((2*k - 1) * np.pi) / (2 * (n + 1))) for k in range(1, n + 2)])"
   ]
  }
 ],
 "metadata": {
  "kernelspec": {
   "display_name": "Python 3 (ipykernel)",
   "language": "python",
   "name": "python3"
  },
  "language_info": {
   "codemirror_mode": {
    "name": "ipython",
    "version": 3
   },
   "file_extension": ".py",
   "mimetype": "text/x-python",
   "name": "python",
   "nbconvert_exporter": "python",
   "pygments_lexer": "ipython3",
   "version": "3.12.8"
  }
 },
 "nbformat": 4,
 "nbformat_minor": 5
}
