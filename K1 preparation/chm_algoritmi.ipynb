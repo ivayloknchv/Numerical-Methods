{
 "cells": [
  {
   "cell_type": "code",
   "execution_count": 3,
   "id": "f094bd88-e8c2-45e6-942a-ea5bdc52b440",
   "metadata": {},
   "outputs": [],
   "source": [
    "import numpy as np"
   ]
  },
  {
   "cell_type": "code",
   "execution_count": 32,
   "id": "18abff74-f290-45de-9ec3-23be36805a85",
   "metadata": {},
   "outputs": [],
   "source": [
    "import matplotlib.pyplot as plt"
   ]
  },
  {
   "cell_type": "code",
   "execution_count": 4,
   "id": "96b7a3f4-8e42-4076-bda2-f6528562b30e",
   "metadata": {},
   "outputs": [],
   "source": [
    "# Lagrange"
   ]
  },
  {
   "cell_type": "code",
   "execution_count": 5,
   "id": "6cf19894-8a55-4d71-a64c-ddebf6febb88",
   "metadata": {},
   "outputs": [],
   "source": [
    "def calc_basis_poly(nodes, k, x):\n",
    "    res = 1\n",
    "    for i in range(len(nodes)):\n",
    "        if(i!=k):\n",
    "            res*=(x-nodes[i])/(nodes[k]-nodes[i])\n",
    "    return res\n",
    "\n",
    "def lagrange_poly(nodes, values, x):\n",
    "    res = 0\n",
    "    for i in range(len(nodes)):\n",
    "        res += values[i] * calc_basis_poly(nodes, i, x)\n",
    "    return res"
   ]
  },
  {
   "cell_type": "code",
   "execution_count": 6,
   "id": "2083d334-bd41-44ff-847e-4c4f93d20da0",
   "metadata": {},
   "outputs": [],
   "source": [
    "# Divided Differences - Normal Formula"
   ]
  },
  {
   "cell_type": "code",
   "execution_count": 7,
   "id": "4d891d50-6f63-4b3a-8936-d6986c50d848",
   "metadata": {},
   "outputs": [],
   "source": [
    "def divided_difference(nodes, values):\n",
    "    if len(nodes) == 1:\n",
    "        return values[0]\n",
    "    return (divided_difference(nodes[1::], values[1::]) - divided_difference(nodes[0:-1:], values[0:-1:])) / (nodes[-1] - nodes[0])"
   ]
  },
  {
   "cell_type": "code",
   "execution_count": 8,
   "id": "47103ffd-1120-439d-bbcb-bc8297ebca97",
   "metadata": {},
   "outputs": [],
   "source": [
    "# Newton"
   ]
  },
  {
   "cell_type": "code",
   "execution_count": 9,
   "id": "3fc2f9dc-a2f1-4e1b-9f57-5a698a8cccde",
   "metadata": {},
   "outputs": [],
   "source": [
    "def newton_poly(nodes, values, x):\n",
    "    res = 0\n",
    "    multiplier = 1\n",
    "    n = len(nodes)\n",
    "    \n",
    "    for k in range(0, n):\n",
    "        current = divided_difference(nodes[0:k+1], values[0:k+1])*multiplier\n",
    "        res+=current\n",
    "        multiplier *= (x-nodes[k])\n",
    "        \n",
    "    return res   "
   ]
  },
  {
   "cell_type": "code",
   "execution_count": 10,
   "id": "d4c08aa2-56bc-4921-9e62-bcea3b589f54",
   "metadata": {},
   "outputs": [],
   "source": [
    "# Divided Difference - Extended Formula"
   ]
  },
  {
   "cell_type": "code",
   "execution_count": 11,
   "id": "913007ea-267c-4e49-b5a1-80d281fe360b",
   "metadata": {},
   "outputs": [],
   "source": [
    "def divided_difference_extended(nodes, values, l, r):\n",
    "    if nodes[l] == nodes[r]:\n",
    "        return values[np.argmax(nodes == nodes[l]) + r - l] / math.factorial(r-l)\n",
    "    return (divided_difference_extended(nodes, values, l+1, r) - divided_difference_extended(nodes, values, l, r - 1)) / (nodes[r] - nodes[l])"
   ]
  },
  {
   "cell_type": "code",
   "execution_count": 12,
   "id": "7909fdad-a8a7-4f38-85ca-e68e39c16bf9",
   "metadata": {},
   "outputs": [],
   "source": [
    "# Hermite"
   ]
  },
  {
   "cell_type": "code",
   "execution_count": 13,
   "id": "5e652a9a-9bf9-4087-b0aa-17e71b106239",
   "metadata": {},
   "outputs": [],
   "source": [
    "def hermite_poly(nodes, values, x):\n",
    "    res = 0\n",
    "    multiplier = 1\n",
    "    \n",
    "    for i in range(len(nodes)):\n",
    "        res += divided_diff_extended(nodes, values, 0, i) *  multiplier\n",
    "        multiplier *= (x - nodes[i])\n",
    "        \n",
    "    return res"
   ]
  },
  {
   "cell_type": "code",
   "execution_count": 14,
   "id": "b03b2fc3-6f75-43d1-9d62-1475ae9a82dd",
   "metadata": {},
   "outputs": [],
   "source": [
    "# Newton Forward"
   ]
  },
  {
   "cell_type": "code",
   "execution_count": 15,
   "id": "114127f1-cdb1-4e32-aafe-41c9e124b111",
   "metadata": {},
   "outputs": [],
   "source": [
    "def binom(n, k):\n",
    "    if k == 0 or k == n:\n",
    "        return 1\n",
    "    return np.prod([(n + 1 - i) / i for i in range(1, k + 1)])\n",
    "\n",
    "def finite_diff(values, k, i):\n",
    "    \n",
    "    if k == 0:\n",
    "        return values[i]\n",
    "\n",
    "    return finite_diff(values, k-1, i+1) - finite_diff(values, k-1, i)\n",
    "\n",
    "def newton_forward(x, values, beg, end):\n",
    "    n = len(values)\n",
    "    nodes = np.linspace(beg, end, n)\n",
    "    t = (x - nodes[0]) / (nodes[1] - nodes[0])\n",
    "\n",
    "    sum = 0\n",
    "    for i in range(0, n):\n",
    "        sum += finite_diff(values, i, 0) * binom(t, i)\n",
    "    return sum"
   ]
  },
  {
   "cell_type": "code",
   "execution_count": 16,
   "id": "1d098f7a-67e8-497d-9663-68bd283fc79e",
   "metadata": {},
   "outputs": [],
   "source": [
    "# Exponential Basis Interpolation"
   ]
  },
  {
   "cell_type": "code",
   "execution_count": 41,
   "id": "56ca1d2d-956b-4ba5-a8a9-35c72c6f6beb",
   "metadata": {},
   "outputs": [],
   "source": [
    "def create_matrix_exp(nodes):\n",
    "    matrix = []\n",
    "    \n",
    "    for node in nodes:\n",
    "        current_row = []\n",
    "\n",
    "        for i in range(len(nodes)):\n",
    "            current_row.append(np.e ** (i*node))\n",
    "        matrix.append(current_row)\n",
    "\n",
    "    return np.array(matrix)"
   ]
  },
  {
   "cell_type": "code",
   "execution_count": 18,
   "id": "b861d405-60e1-489f-bd36-2ae7efcbf825",
   "metadata": {},
   "outputs": [],
   "source": [
    "def calc_exponential_poly(poly_coeffs, x):\n",
    "    res = 0\n",
    "    for i in range(len(poly_coeffs)):\n",
    "        res += poly_coeffs[i] * np.exp(i * x)\n",
    "    return res"
   ]
  },
  {
   "cell_type": "code",
   "execution_count": 19,
   "id": "59542627-446e-466a-92d3-3db7574f5a1c",
   "metadata": {},
   "outputs": [],
   "source": [
    "# Trigonometric Basis Poly - 1st Way"
   ]
  },
  {
   "cell_type": "code",
   "execution_count": 33,
   "id": "b8670991-57b3-4951-86e9-4c3ad804655d",
   "metadata": {},
   "outputs": [],
   "source": [
    "def create_matrix_trig1(nodes):\n",
    "    matrix = []\n",
    "    for node in nodes:\n",
    "        row = [1]\n",
    "        mult = 1\n",
    "        for i in range(1, len(nodes)):\n",
    "            if i % 2 == 1:\n",
    "                row.append(np.cos(mult*node))\n",
    "            else:\n",
    "                row.append(np.sin(mult*node))\n",
    "                mult += 1\n",
    "        matrix.append(row)\n",
    "    return np.array(matrix)"
   ]
  },
  {
   "cell_type": "code",
   "execution_count": 34,
   "id": "c4a33ea7-d403-4437-ba88-2987cddc64fe",
   "metadata": {},
   "outputs": [],
   "source": [
    "def calc_trig_poly1(coeffs, x):\n",
    "    res = coeffs[0]\n",
    "    mult = 1\n",
    "    for i in range(1, len(coeffs)):\n",
    "        if i % 2 == 1:\n",
    "            res += coeffs[i]*np.cos(mult*x)\n",
    "        else:\n",
    "            res += coeffs[i]*np.sin(mult*x)\n",
    "            mult += 1\n",
    "    return res"
   ]
  },
  {
   "cell_type": "code",
   "execution_count": 22,
   "id": "b3dd6004-7682-4488-8632-b956554a9882",
   "metadata": {},
   "outputs": [],
   "source": [
    "# Trigonometric Basis Poly - 2nd Way (Maybe the better one)"
   ]
  },
  {
   "cell_type": "code",
   "execution_count": 35,
   "id": "803fe1b8-7cd1-4677-8fbf-11350f64df4e",
   "metadata": {},
   "outputs": [],
   "source": [
    "def create_matrix_trig2(nodes):\n",
    "    matrix = []\n",
    "\n",
    "    for node in nodes:\n",
    "        row = []\n",
    "        for i in range(0,len(nodes)):\n",
    "            if i == 0: \n",
    "                row.append(1)\n",
    "            elif i % 2 == 1:\n",
    "                row.append(np.cos((i // 2 + 1) * node))\n",
    "            else:\n",
    "                row.append(np.sin((i // 2) * node))\n",
    "        matrix.append(row)\n",
    "\n",
    "    return np.array(matrix)"
   ]
  },
  {
   "cell_type": "code",
   "execution_count": 24,
   "id": "b3d98011-ecca-419c-97c6-75e91357fa4d",
   "metadata": {},
   "outputs": [],
   "source": [
    "# Another Basis:"
   ]
  },
  {
   "cell_type": "code",
   "execution_count": 39,
   "id": "9bbbc10e-1777-4420-a366-d543caedd8e9",
   "metadata": {},
   "outputs": [],
   "source": [
    "def basis(n, x): #demo basis lets make it exp basis\n",
    "    return (np.e)**(n*x)"
   ]
  },
  {
   "cell_type": "code",
   "execution_count": 25,
   "id": "05be4b33-485e-4dde-a9fd-d72ab19c5823",
   "metadata": {},
   "outputs": [],
   "source": [
    "def create_matrix(nodes, basis):\n",
    "    matrix = []\n",
    "\n",
    "    for node in nodes:\n",
    "        row = []\n",
    "        for i in range(len(nodes)):\n",
    "            row.append(basis(i, node))\n",
    "        matrix.append(row)\n",
    "    return np.array(matrix)"
   ]
  },
  {
   "cell_type": "code",
   "execution_count": 26,
   "id": "f9e5decd-3a5c-4c0d-8674-152b112562bf",
   "metadata": {},
   "outputs": [],
   "source": [
    "def calc_poly(coeffs, x, basis):\n",
    "    res = 0\n",
    "    for i, coeff in enumerate(coeffs):\n",
    "        res += coeff * basis(i, x)\n",
    "    return res"
   ]
  },
  {
   "cell_type": "code",
   "execution_count": 27,
   "id": "bf691a35-4381-4e05-9554-c5078a76717d",
   "metadata": {},
   "outputs": [],
   "source": [
    "# Lagrange Analogue for Trig Basis"
   ]
  },
  {
   "cell_type": "code",
   "execution_count": 36,
   "id": "a21e2435-74ea-4d49-9179-e5c4aa4e283d",
   "metadata": {},
   "outputs": [],
   "source": [
    "def calc_trig_basis_func(nodes, k, x):\n",
    "    res = 1\n",
    "    for idx, node in enumerate(nodes):\n",
    "        if idx != k:\n",
    "            res *= np.sin((x-node)/2) / np.sin((nodes[k]-node)/2)\n",
    "    return res\n",
    "    \n",
    "def calc_trig_poly(nodes, values, x):\n",
    "    res = 0\n",
    "    for i in range(len(values)):\n",
    "        res = values[i] * calc_basis_func(nodes, i, x)\n",
    "    return res"
   ]
  },
  {
   "cell_type": "code",
   "execution_count": 29,
   "id": "b38c9842-2b4f-4e00-bcf5-fdf8566889a2",
   "metadata": {},
   "outputs": [],
   "source": [
    "# Chebyshev Nodes - 2 Ways"
   ]
  },
  {
   "cell_type": "code",
   "execution_count": 30,
   "id": "169ac724-f143-45dd-a822-3884b95baf08",
   "metadata": {},
   "outputs": [],
   "source": [
    "n = 4 # degree of poly is 4 but we need n+1 nodes!!!!!\n",
    "chebyshev_nodes = np.empty(n+1)\n",
    "for k in range(n+1):\n",
    "    chebyshev_nodes[k] = np.cos((2 * (k + 1) - 1) / (2 * (n+1)) * np.pi)\n",
    "\n",
    "nodes = np.array([np.cos(((2*k - 1) * np.pi) / (2 * (n + 1))) for k in range(1, n + 2)])"
   ]
  },
  {
   "cell_type": "code",
   "execution_count": 31,
   "id": "598460f2-7f2a-42e1-95b8-bcbd0ab4773d",
   "metadata": {},
   "outputs": [],
   "source": [
    "# for graphing: "
   ]
  },
  {
   "cell_type": "code",
   "execution_count": 38,
   "id": "b26b790b-db07-4e9a-b1e3-a375e423cdc4",
   "metadata": {},
   "outputs": [],
   "source": [
    "nodes = np.array([1,2,3,4,5])"
   ]
  },
  {
   "cell_type": "code",
   "execution_count": 40,
   "id": "169c21d2-2303-47c9-96bf-4c1948be0cfa",
   "metadata": {},
   "outputs": [],
   "source": [
    "values = np.array([3, 128, 115, 1050, 13500])"
   ]
  },
  {
   "cell_type": "code",
   "execution_count": 42,
   "id": "46713c02-3dfe-4221-93bb-bcf2ca449be9",
   "metadata": {},
   "outputs": [],
   "source": [
    "A = create_matrix_exp(nodes)"
   ]
  },
  {
   "cell_type": "code",
   "execution_count": 45,
   "id": "85670343-7c38-4426-9e39-ab92fc9aaee2",
   "metadata": {},
   "outputs": [],
   "source": [
    "coeffs = np.linalg.solve(A, values)"
   ]
  },
  {
   "cell_type": "code",
   "execution_count": 46,
   "id": "31d9f373-4823-4c18-9aaa-c0ee8383fdc3",
   "metadata": {},
   "outputs": [],
   "source": [
    "x_axis = np.linspace(min(nodes), max(nodes), 1000)"
   ]
  },
  {
   "cell_type": "code",
   "execution_count": 47,
   "id": "b0795568-709e-4e4c-b283-2724bf8e479f",
   "metadata": {},
   "outputs": [],
   "source": [
    "y_axis = calc_exponential_poly(coeffs, x_axis)"
   ]
  },
  {
   "cell_type": "code",
   "execution_count": 55,
   "id": "bd64853b-2ae0-46e8-b254-4dd169a546a2",
   "metadata": {},
   "outputs": [
    {
     "data": {
      "image/png": "[encoded data removed]",
      "text/plain": [
       "<Figure size 640x480 with 1 Axes>"
      ]
     },
     "metadata": {},
     "output_type": "display_data"
    }
   ],
   "source": [
    "plt.title(\"Exponential Basis Interpolation Poly\")\n",
    "plt.scatter(nodes, values)\n",
    "plt.plot(x_axis, y_axis)\n",
    "plt.xlabel(\"Week Number\")\n",
    "plt.ylabel(\"Infected\")\n",
    "plt.show()"
   ]
  },
  {
   "cell_type": "code",
   "execution_count": null,
   "id": "40cfaaa1-3f55-4d4d-b150-918660119aaf",
   "metadata": {},
   "outputs": [],
   "source": []
  }
 ],
 "metadata": {
  "kernelspec": {
   "display_name": "Python 3 (ipykernel)",
   "language": "python",
   "name": "python3"
  },
  "language_info": {
   "codemirror_mode": {
    "name": "ipython",
    "version": 3
   },
   "file_extension": ".py",
   "mimetype": "text/x-python",
   "name": "python",
   "nbconvert_exporter": "python",
   "pygments_lexer": "ipython3",
   "version": "3.12.8"
  }
 },
 "nbformat": 4,
 "nbformat_minor": 5
}
