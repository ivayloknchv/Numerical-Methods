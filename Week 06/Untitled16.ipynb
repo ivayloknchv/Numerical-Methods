{
 "cells": [
  {
   "cell_type": "code",
   "execution_count": 22,
   "id": "00067547-71cf-48ae-a969-3d8a0d555198",
   "metadata": {},
   "outputs": [],
   "source": [
    "import numpy as np"
   ]
  },
  {
   "cell_type": "code",
   "execution_count": 23,
   "id": "41ad2be7-79cf-4458-98cb-15a6a0095932",
   "metadata": {},
   "outputs": [],
   "source": [
    "import matplotlib.pyplot as plt"
   ]
  },
  {
   "cell_type": "code",
   "execution_count": 24,
   "id": "c7bc93ef-d926-4147-b036-22d33ee339a0",
   "metadata": {},
   "outputs": [],
   "source": [
    "BAC_nodes = np.array([0, 0.03, 0.07, 0.15, 0.21, 0.27])"
   ]
  },
  {
   "cell_type": "code",
   "execution_count": 25,
   "id": "29ec494d-5a39-4790-bf20-9b8187fb6975",
   "metadata": {},
   "outputs": [],
   "source": [
    "risk_values = np.array([1, 1.06, 2.09, 22.1, 99.78, 328.602])"
   ]
  },
  {
   "cell_type": "code",
   "execution_count": 66,
   "id": "582c0724-d5a6-4469-b083-1c8f2ece431b",
   "metadata": {},
   "outputs": [],
   "source": [
    "def create_matrix(nodes):\n",
    "    matrix = []\n",
    "\n",
    "    for node in nodes:\n",
    "        current_row = []\n",
    "\n",
    "        for i in range(len(nodes)):\n",
    "            current_row.append(np.e ** (i*node))\n",
    "        matrix.append(current_row)\n",
    "\n",
    "    return np.array(matrix)"
   ]
  },
  {
   "cell_type": "code",
   "execution_count": 67,
   "id": "1851e071-243d-4da0-ba31-328b843a1b72",
   "metadata": {},
   "outputs": [],
   "source": [
    "A = create_matrix(BAC_nodes)"
   ]
  },
  {
   "cell_type": "code",
   "execution_count": 68,
   "id": "090de90f-deea-4998-b408-66ca9b69d73a",
   "metadata": {},
   "outputs": [
    {
     "name": "stdout",
     "output_type": "stream",
     "text": [
      "[[1.         1.         1.         1.         1.         1.        ]\n",
      " [1.         1.03045453 1.06183655 1.09417428 1.12749685 1.16183424]\n",
      " [1.         1.07250818 1.1502738  1.23367806 1.32312981 1.41906755]\n",
      " [1.         1.16183424 1.34985881 1.56831219 1.8221188  2.11700002]\n",
      " [1.         1.23367806 1.52196156 1.87761058 2.31636698 2.85765112]\n",
      " [1.         1.30996445 1.71600686 2.24790799 2.94467955 3.85742553]]\n"
     ]
    }
   ],
   "source": [
    "print(A)"
   ]
  },
  {
   "cell_type": "code",
   "execution_count": 69,
   "id": "1bae2889-0a8a-4971-a5df-17cc05103a1d",
   "metadata": {},
   "outputs": [],
   "source": [
    "coeffs = np.linalg.solve(A, risk_values)"
   ]
  },
  {
   "cell_type": "code",
   "execution_count": 70,
   "id": "d6003c30-e967-4081-9888-d28d45faf8fd",
   "metadata": {},
   "outputs": [
    {
     "name": "stdout",
     "output_type": "stream",
     "text": [
      "[ 5.38042614e+04 -2.09024759e+05  3.04729868e+05 -1.97591583e+05\n",
      "  4.80844797e+04 -1.26674627e+00]\n"
     ]
    }
   ],
   "source": [
    "print(coeffs)"
   ]
  },
  {
   "cell_type": "code",
   "execution_count": 80,
   "id": "a53df626-0fcc-465e-bea6-4f5223e56349",
   "metadata": {},
   "outputs": [],
   "source": [
    "def calc_poly_value(poly_coeffs, x):\n",
    "    res = 0\n",
    "    for i in range(len(poly_coeffs)):\n",
    "        res += poly_coeffs[i] * np.exp(i * x)\n",
    "    return res"
   ]
  },
  {
   "cell_type": "code",
   "execution_count": 81,
   "id": "bd9c2020-10a7-45a8-9ce9-107a34a09ccd",
   "metadata": {},
   "outputs": [],
   "source": [
    "x_axis = np.linspace(0, 0.27, 100)"
   ]
  },
  {
   "cell_type": "code",
   "execution_count": 89,
   "id": "ecced5d5-ad2b-4c83-ae06-95bfdb379e1f",
   "metadata": {},
   "outputs": [
    {
     "data": {
      "image/png": "[encoded data removed]",
      "text/plain": [
       "<Figure size 640x480 with 1 Axes>"
      ]
     },
     "metadata": {},
     "output_type": "display_data"
    }
   ],
   "source": [
    "plt.plot(x_axis, calc_poly_value(coeffs,x_axis))\n",
    "plt.scatter(BAC_nodes, risk_values)\n",
    "plt.show()"
   ]
  },
  {
   "cell_type": "code",
   "execution_count": null,
   "id": "2f4d3c34-0219-490c-a2a6-411d3ec3fd5f",
   "metadata": {},
   "outputs": [],
   "source": []
  }
 ],
 "metadata": {
  "kernelspec": {
   "display_name": "Python 3 (ipykernel)",
   "language": "python",
   "name": "python3"
  },
  "language_info": {
   "codemirror_mode": {
    "name": "ipython",
    "version": 3
   },
   "file_extension": ".py",
   "mimetype": "text/x-python",
   "name": "python",
   "nbconvert_exporter": "python",
   "pygments_lexer": "ipython3",
   "version": "3.12.7"
  }
 },
 "nbformat": 4,
 "nbformat_minor": 5
}
