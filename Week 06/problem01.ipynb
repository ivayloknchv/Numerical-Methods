{
 "cells": [
  {
   "cell_type": "code",
   "execution_count": 1,
   "id": "cbba2ed3-ed25-4c6a-bd0b-1052963c6b7e",
   "metadata": {},
   "outputs": [],
   "source": [
    "import numpy as np"
   ]
  },
  {
   "cell_type": "code",
   "execution_count": 2,
   "id": "7eca3df5-cf38-4a06-8765-5f17bdceae4c",
   "metadata": {},
   "outputs": [],
   "source": [
    "import matplotlib.pyplot as plt"
   ]
  },
  {
   "cell_type": "code",
   "execution_count": 18,
   "id": "d10f4519-dfa2-45bb-8449-bb5775524777",
   "metadata": {},
   "outputs": [],
   "source": [
    "from sympy import Symbol, lambdify"
   ]
  },
  {
   "cell_type": "code",
   "execution_count": 19,
   "id": "3d4bac91-f1b7-4dfb-9e8c-6b663cdb8c2a",
   "metadata": {},
   "outputs": [],
   "source": [
    "BAC_nodes = np.array([0, 0.03, 0.07, 0.15, 0.21, 0.27])"
   ]
  },
  {
   "cell_type": "code",
   "execution_count": 20,
   "id": "5e81d9bc-dece-4542-9832-dd119d19dfba",
   "metadata": {},
   "outputs": [],
   "source": [
    "risk_values = np.array([1, 1.06, 2.09, 22.1, 99.78, 328.602])"
   ]
  },
  {
   "cell_type": "code",
   "execution_count": 21,
   "id": "3cf5b545-6713-4b78-a37d-362cbcb18bd8",
   "metadata": {},
   "outputs": [],
   "source": [
    "def generate_matrix(nodes):\n",
    "    matrix = []\n",
    "    for i in range(len(nodes)):\n",
    "        row = []\n",
    "        for j in range(len(nodes)):\n",
    "            row.append(pow(np.e, j * nodes[i]))\n",
    "        matrix.append(row)\n",
    "    return matrix                   "
   ]
  },
  {
   "cell_type": "code",
   "execution_count": 22,
   "id": "f35d9a47-131b-44e9-bf1c-003d125c8fc9",
   "metadata": {},
   "outputs": [],
   "source": [
    "matrix = generate_matrix(BAC_nodes)"
   ]
  },
  {
   "cell_type": "code",
   "execution_count": 23,
   "id": "d77b845e-edb4-40ce-82cf-82c4236aaf8c",
   "metadata": {},
   "outputs": [],
   "source": [
    "solutions = np.linalg.solve(matrix, risk_values)"
   ]
  },
  {
   "cell_type": "code",
   "execution_count": 17,
   "id": "3f899d39-bd41-4299-abb5-0780f6938b23",
   "metadata": {},
   "outputs": [
    {
     "name": "stdout",
     "output_type": "stream",
     "text": [
      "[ 5.38042614e+04 -2.09024759e+05  3.04729868e+05 -1.97591583e+05\n",
      "  4.80844797e+04 -1.26674627e+00]\n"
     ]
    }
   ],
   "source": [
    "print(solutions)"
   ]
  }
 ],
 "metadata": {
  "kernelspec": {
   "display_name": "Python 3 (ipykernel)",
   "language": "python",
   "name": "python3"
  },
  "language_info": {
   "codemirror_mode": {
    "name": "ipython",
    "version": 3
   },
   "file_extension": ".py",
   "mimetype": "text/x-python",
   "name": "python",
   "nbconvert_exporter": "python",
   "pygments_lexer": "ipython3",
   "version": "3.12.7"
  }
 },
 "nbformat": 4,
 "nbformat_minor": 5
}
