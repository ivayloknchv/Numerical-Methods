{
 "cells": [
  {
   "cell_type": "code",
   "execution_count": 1,
   "id": "e2d43c52-2250-419b-bb60-4b901d9507ab",
   "metadata": {},
   "outputs": [],
   "source": [
    "import numpy as np"
   ]
  },
  {
   "cell_type": "code",
   "execution_count": 39,
   "id": "2a83df2d-eb14-4535-a364-90013f91c67e",
   "metadata": {},
   "outputs": [],
   "source": [
    "import matplotlib.pyplot as plt"
   ]
  },
  {
   "cell_type": "code",
   "execution_count": 40,
   "id": "c6cbcc40-f79d-40d8-9514-afd72607444c",
   "metadata": {},
   "outputs": [],
   "source": [
    "nodes  = np.arange(0, 12*30, 30)\n",
    "TARGET = nodes[7]\n",
    "nodes = np.delete(nodes,7)"
   ]
  },
  {
   "cell_type": "code",
   "execution_count": 41,
   "id": "861c99d2-0bf5-47f1-89e3-fc2cd4027691",
   "metadata": {},
   "outputs": [],
   "source": [
    "values = np.array([45.9, 78.2, 123.5, 172.6, 223.5, 255.3, 286.0, 183.9, 116.2, 57.8, 37.7])"
   ]
  },
  {
   "cell_type": "code",
   "execution_count": 42,
   "id": "6b2effb6-c0e5-4fb0-a4a9-72ac25a1c2a3",
   "metadata": {},
   "outputs": [],
   "source": [
    "PERIOD = 365"
   ]
  },
  {
   "cell_type": "code",
   "execution_count": 43,
   "id": "eea62ba6-7937-49a7-b9c0-bf11b838afcd",
   "metadata": {},
   "outputs": [],
   "source": [
    "def create_matrix(nodes):\n",
    "    matrix = []\n",
    "    for node in nodes:\n",
    "        row = [1]\n",
    "        mult = 1\n",
    "        for i in range(1, len(nodes)):\n",
    "            if i % 2 == 1:\n",
    "                row.append(np.cos(mult*node))\n",
    "            else:\n",
    "                row.append(np.sin(mult*node))\n",
    "                mult += 1\n",
    "        matrix.append(row)\n",
    "    return np.array(matrix)"
   ]
  },
  {
   "cell_type": "code",
   "execution_count": 44,
   "id": "0e487a59-114d-481c-9e2f-a2d86a5e2479",
   "metadata": {},
   "outputs": [],
   "source": [
    "def calc_poly(coeffs, x):\n",
    "    res = coeffs[0]\n",
    "    mult = 1\n",
    "    for i in range(1, len(coeffs)):\n",
    "        if i % 2 == 1:\n",
    "            res += coeffs[i]*np.cos(mult*x)\n",
    "        else:\n",
    "            res += coeffs[i]*np.sin(mult*x)\n",
    "            mult += 1\n",
    "    return res"
   ]
  },
  {
   "cell_type": "code",
   "execution_count": 45,
   "id": "30903b59-150d-4ae1-92de-50bf79caeeb3",
   "metadata": {},
   "outputs": [],
   "source": [
    "transformed_nodes = np.array([2*np.pi*node/PERIOD for node in nodes])"
   ]
  },
  {
   "cell_type": "code",
   "execution_count": 46,
   "id": "6d7854fc-8469-40c7-9f5f-d9ecbc5b950d",
   "metadata": {},
   "outputs": [],
   "source": [
    "coeffs = np.linalg.solve(create_matrix(transformed_nodes), values)"
   ]
  },
  {
   "cell_type": "code",
   "execution_count": 53,
   "id": "a3126e4f-ac81-4e05-95aa-50d8954c3d3b",
   "metadata": {},
   "outputs": [],
   "source": [
    "x_axis = np.linspace(0, 365, 12)"
   ]
  },
  {
   "cell_type": "code",
   "execution_count": 54,
   "id": "01ef397b-65d7-4a9e-8a13-81fc39a89b22",
   "metadata": {},
   "outputs": [],
   "source": [
    "y_axis = calc_poly(coeffs, x_axis)"
   ]
  },
  {
   "cell_type": "code",
   "execution_count": 56,
   "id": "2d4a5255-8686-4942-9cf9-24517f7a0c86",
   "metadata": {},
   "outputs": [
    {
     "name": "stdout",
     "output_type": "stream",
     "text": [
      "259.9444561190786\n"
     ]
    }
   ],
   "source": [
    "print(calc_poly(coeffs, TARGET))"
   ]
  },
  {
   "cell_type": "code",
   "execution_count": null,
   "id": "842cdb93-31d5-4abe-a27a-cbf1b3861bbe",
   "metadata": {},
   "outputs": [],
   "source": []
  }
 ],
 "metadata": {
  "kernelspec": {
   "display_name": "Python 3 (ipykernel)",
   "language": "python",
   "name": "python3"
  },
  "language_info": {
   "codemirror_mode": {
    "name": "ipython",
    "version": 3
   },
   "file_extension": ".py",
   "mimetype": "text/x-python",
   "name": "python",
   "nbconvert_exporter": "python",
   "pygments_lexer": "ipython3",
   "version": "3.12.7"
  }
 },
 "nbformat": 4,
 "nbformat_minor": 5
}
