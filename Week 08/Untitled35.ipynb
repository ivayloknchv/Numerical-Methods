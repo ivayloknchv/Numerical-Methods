{
 "cells": [
  {
   "cell_type": "code",
   "execution_count": 1,
   "id": "61eaa318-3fab-4aa2-ba00-ea4ebf6fc83d",
   "metadata": {},
   "outputs": [],
   "source": [
    "import numpy as np"
   ]
  },
  {
   "cell_type": "code",
   "execution_count": 44,
   "id": "35948f1b-b315-462a-82ce-b4edadab5b87",
   "metadata": {},
   "outputs": [],
   "source": [
    "from sympy import Eq, diff, symbols, expand, solve"
   ]
  },
  {
   "cell_type": "code",
   "execution_count": 45,
   "id": "8615cfaf-8e7d-47d6-8bb2-2debde33f5c1",
   "metadata": {},
   "outputs": [],
   "source": [
    "import matplotlib.pyplot as plt"
   ]
  },
  {
   "cell_type": "code",
   "execution_count": 46,
   "id": "3a928314-aa6c-4a40-8385-95a1167bea0c",
   "metadata": {},
   "outputs": [],
   "source": [
    "import pandas as pd"
   ]
  },
  {
   "cell_type": "code",
   "execution_count": 59,
   "id": "8caea6bd-771e-4ef5-a89a-99c234915ef9",
   "metadata": {},
   "outputs": [
    {
     "data": {
      "text/html": [
       "<div>\n",
       "<style scoped>\n",
       "    .dataframe tbody tr th:only-of-type {\n",
       "        vertical-align: middle;\n",
       "    }\n",
       "\n",
       "    .dataframe tbody tr th {\n",
       "        vertical-align: top;\n",
       "    }\n",
       "\n",
       "    .dataframe thead th {\n",
       "        text-align: right;\n",
       "    }\n",
       "</style>\n",
       "<table border=\"1\" class=\"dataframe\">\n",
       "  <thead>\n",
       "    <tr style=\"text-align: right;\">\n",
       "      <th></th>\n",
       "      <th>year</th>\n",
       "      <th>co2</th>\n",
       "    </tr>\n",
       "  </thead>\n",
       "  <tbody>\n",
       "    <tr>\n",
       "      <th>0</th>\n",
       "      <td>1940</td>\n",
       "      <td>4.85</td>\n",
       "    </tr>\n",
       "    <tr>\n",
       "      <th>1</th>\n",
       "      <td>1941</td>\n",
       "      <td>4.97</td>\n",
       "    </tr>\n",
       "    <tr>\n",
       "      <th>2</th>\n",
       "      <td>1942</td>\n",
       "      <td>4.95</td>\n",
       "    </tr>\n",
       "    <tr>\n",
       "      <th>3</th>\n",
       "      <td>1943</td>\n",
       "      <td>5.04</td>\n",
       "    </tr>\n",
       "    <tr>\n",
       "      <th>4</th>\n",
       "      <td>1944</td>\n",
       "      <td>5.11</td>\n",
       "    </tr>\n",
       "    <tr>\n",
       "      <th>...</th>\n",
       "      <td>...</td>\n",
       "      <td>...</td>\n",
       "    </tr>\n",
       "    <tr>\n",
       "      <th>78</th>\n",
       "      <td>2018</td>\n",
       "      <td>36.83</td>\n",
       "    </tr>\n",
       "    <tr>\n",
       "      <th>79</th>\n",
       "      <td>2019</td>\n",
       "      <td>37.08</td>\n",
       "    </tr>\n",
       "    <tr>\n",
       "      <th>80</th>\n",
       "      <td>2020</td>\n",
       "      <td>35.26</td>\n",
       "    </tr>\n",
       "    <tr>\n",
       "      <th>81</th>\n",
       "      <td>2021</td>\n",
       "      <td>37.12</td>\n",
       "    </tr>\n",
       "    <tr>\n",
       "      <th>82</th>\n",
       "      <td>2022</td>\n",
       "      <td>37.49</td>\n",
       "    </tr>\n",
       "  </tbody>\n",
       "</table>\n",
       "<p>83 rows × 2 columns</p>\n",
       "</div>"
      ],
      "text/plain": [
       "    year    co2\n",
       "0   1940   4.85\n",
       "1   1941   4.97\n",
       "2   1942   4.95\n",
       "3   1943   5.04\n",
       "4   1944   5.11\n",
       "..   ...    ...\n",
       "78  2018  36.83\n",
       "79  2019  37.08\n",
       "80  2020  35.26\n",
       "81  2021  37.12\n",
       "82  2022  37.49\n",
       "\n",
       "[83 rows x 2 columns]"
      ]
     },
     "execution_count": 59,
     "metadata": {},
     "output_type": "execute_result"
    }
   ],
   "source": [
    "df = pd.read_csv('CO_2_data.csv')\n",
    "df"
   ]
  },
  {
   "cell_type": "code",
   "execution_count": 48,
   "id": "b7d9793a-f4c8-4e25-98e6-efae4ce39e9a",
   "metadata": {},
   "outputs": [],
   "source": [
    "years = df['year']"
   ]
  },
  {
   "cell_type": "code",
   "execution_count": 49,
   "id": "02b470dc-5499-4ede-9f6d-32a27fe95228",
   "metadata": {},
   "outputs": [],
   "source": [
    "co2 = df['co2']"
   ]
  },
  {
   "cell_type": "code",
   "execution_count": 50,
   "id": "12808a11-782f-4c9a-9082-8fb2f9197c1b",
   "metadata": {},
   "outputs": [],
   "source": [
    "def lin_func(x, params):\n",
    "    a, b = params[0], params[1]\n",
    "    return a + b * x"
   ]
  },
  {
   "cell_type": "code",
   "execution_count": 51,
   "id": "67e86dcb-c1d6-4200-b83e-95969ddbad66",
   "metadata": {},
   "outputs": [],
   "source": [
    "a, b = symbols('a, b')\n",
    "params = (a, b)"
   ]
  },
  {
   "cell_type": "code",
   "execution_count": 52,
   "id": "e0315dc1-e1e8-4c4a-8ae3-37077203f91a",
   "metadata": {},
   "outputs": [],
   "source": [
    "phi = 0"
   ]
  },
  {
   "cell_type": "code",
   "execution_count": 53,
   "id": "30a4cec7-c9ff-4ce3-bc56-798c478e23ff",
   "metadata": {},
   "outputs": [],
   "source": [
    "for i in range(len(years)):\n",
    "    phi += (co2[i] - lin_func(years[i], params))**2"
   ]
  },
  {
   "cell_type": "code",
   "execution_count": 54,
   "id": "e67fc8d7-1ac5-466f-bd54-c3e90b5d5736",
   "metadata": {},
   "outputs": [],
   "source": [
    "eq1 = Eq(diff(phi, a), 0)\n",
    "eq2 = Eq(diff(phi, b), 0)"
   ]
  },
  {
   "cell_type": "code",
   "execution_count": 56,
   "id": "5119e39d-8213-493d-a02f-f098659593ff",
   "metadata": {},
   "outputs": [
    {
     "data": {
      "text/plain": [
       "{a: -833.280314428446, b: 0.430363124973763}"
      ]
     },
     "execution_count": 56,
     "metadata": {},
     "output_type": "execute_result"
    }
   ],
   "source": [
    "solutions = solve((eq1, eq2), (a, b))\n",
    "solutions"
   ]
  },
  {
   "cell_type": "code",
   "execution_count": 60,
   "id": "7f4255bb-30be-4fa1-876c-9da09f6530b9",
   "metadata": {},
   "outputs": [],
   "source": [
    "x_axis = np.linspace(1940, 2022, 1000)"
   ]
  },
  {
   "cell_type": "code",
   "execution_count": 61,
   "id": "70b4fb70-e399-482b-92f8-91f9d5d84c1b",
   "metadata": {},
   "outputs": [],
   "source": [
    "y_axis = lin_func(x_axis, (solutions[a], solutions[b]))"
   ]
  },
  {
   "cell_type": "code",
   "execution_count": null,
   "id": "4ccf0ab3-5601-4933-b9ec-8508f53f2093",
   "metadata": {},
   "outputs": [
    {
     "data": {
      "text/plain": [
       "[<matplotlib.lines.Line2D at 0x1da99deb380>]"
      ]
     },
     "execution_count": 63,
     "metadata": {},
     "output_type": "execute_result"
    }
   ],
   "source": [
    "plt.plot(x_axis, y_axis)"
   ]
  },
  {
   "cell_type": "code",
   "execution_count": null,
   "id": "9b061081-ff1a-4987-a218-ac143e950867",
   "metadata": {},
   "outputs": [],
   "source": []
  }
 ],
 "metadata": {
  "kernelspec": {
   "display_name": "Python 3 (ipykernel)",
   "language": "python",
   "name": "python3"
  },
  "language_info": {
   "codemirror_mode": {
    "name": "ipython",
    "version": 3
   },
   "file_extension": ".py",
   "mimetype": "text/x-python",
   "name": "python",
   "nbconvert_exporter": "python",
   "pygments_lexer": "ipython3",
   "version": "3.12.8"
  }
 },
 "nbformat": 4,
 "nbformat_minor": 5
}
