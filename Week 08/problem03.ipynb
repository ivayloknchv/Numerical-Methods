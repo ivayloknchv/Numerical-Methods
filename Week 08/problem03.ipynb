{
 "cells": [
  {
   "cell_type": "code",
   "execution_count": 15,
   "id": "43d59b59-b27a-4a74-ae62-4bc0cf9ee35a",
   "metadata": {},
   "outputs": [],
   "source": [
    "import numpy as np"
   ]
  },
  {
   "cell_type": "code",
   "execution_count": 16,
   "id": "9f1b5e43-ad9f-4ae6-87fa-15f28aa10bed",
   "metadata": {},
   "outputs": [],
   "source": [
    "import matplotlib.pyplot as plt"
   ]
  },
  {
   "cell_type": "code",
   "execution_count": 17,
   "id": "9ea80aeb-c483-4776-b3e4-0069d09bedc5",
   "metadata": {},
   "outputs": [],
   "source": [
    "from sympy import symbols, Eq, diff, expand, solve"
   ]
  },
  {
   "cell_type": "code",
   "execution_count": 18,
   "id": "13260038-9136-41c6-a570-87a64d24a87b",
   "metadata": {},
   "outputs": [],
   "source": [
    "import pandas as pd"
   ]
  },
  {
   "cell_type": "code",
   "execution_count": 39,
   "id": "7016652f-d39e-44aa-a6cc-26107afb0369",
   "metadata": {},
   "outputs": [
    {
     "data": {
      "text/html": [
       "<div>\n",
       "<style scoped>\n",
       "    .dataframe tbody tr th:only-of-type {\n",
       "        vertical-align: middle;\n",
       "    }\n",
       "\n",
       "    .dataframe tbody tr th {\n",
       "        vertical-align: top;\n",
       "    }\n",
       "\n",
       "    .dataframe thead th {\n",
       "        text-align: right;\n",
       "    }\n",
       "</style>\n",
       "<table border=\"1\" class=\"dataframe\">\n",
       "  <thead>\n",
       "    <tr style=\"text-align: right;\">\n",
       "      <th></th>\n",
       "      <th>wind speed</th>\n",
       "      <th>power output</th>\n",
       "    </tr>\n",
       "  </thead>\n",
       "  <tbody>\n",
       "    <tr>\n",
       "      <th>0</th>\n",
       "      <td>5.096144</td>\n",
       "      <td>553.564270</td>\n",
       "    </tr>\n",
       "    <tr>\n",
       "      <th>1</th>\n",
       "      <td>6.609746</td>\n",
       "      <td>698.286377</td>\n",
       "    </tr>\n",
       "    <tr>\n",
       "      <th>2</th>\n",
       "      <td>7.464809</td>\n",
       "      <td>1240.730957</td>\n",
       "    </tr>\n",
       "    <tr>\n",
       "      <th>3</th>\n",
       "      <td>6.646651</td>\n",
       "      <td>834.204285</td>\n",
       "    </tr>\n",
       "    <tr>\n",
       "      <th>4</th>\n",
       "      <td>5.611550</td>\n",
       "      <td>461.315887</td>\n",
       "    </tr>\n",
       "    <tr>\n",
       "      <th>...</th>\n",
       "      <td>...</td>\n",
       "      <td>...</td>\n",
       "    </tr>\n",
       "    <tr>\n",
       "      <th>995</th>\n",
       "      <td>5.136942</td>\n",
       "      <td>304.372986</td>\n",
       "    </tr>\n",
       "    <tr>\n",
       "      <th>996</th>\n",
       "      <td>8.891736</td>\n",
       "      <td>2140.145996</td>\n",
       "    </tr>\n",
       "    <tr>\n",
       "      <th>997</th>\n",
       "      <td>9.031013</td>\n",
       "      <td>1659.943970</td>\n",
       "    </tr>\n",
       "    <tr>\n",
       "      <th>998</th>\n",
       "      <td>8.622097</td>\n",
       "      <td>1999.072021</td>\n",
       "    </tr>\n",
       "    <tr>\n",
       "      <th>999</th>\n",
       "      <td>8.787067</td>\n",
       "      <td>1867.911987</td>\n",
       "    </tr>\n",
       "  </tbody>\n",
       "</table>\n",
       "<p>1000 rows × 2 columns</p>\n",
       "</div>"
      ],
      "text/plain": [
       "     wind speed  power output\n",
       "0      5.096144    553.564270\n",
       "1      6.609746    698.286377\n",
       "2      7.464809   1240.730957\n",
       "3      6.646651    834.204285\n",
       "4      5.611550    461.315887\n",
       "..          ...           ...\n",
       "995    5.136942    304.372986\n",
       "996    8.891736   2140.145996\n",
       "997    9.031013   1659.943970\n",
       "998    8.622097   1999.072021\n",
       "999    8.787067   1867.911987\n",
       "\n",
       "[1000 rows x 2 columns]"
      ]
     },
     "execution_count": 39,
     "metadata": {},
     "output_type": "execute_result"
    }
   ],
   "source": [
    "df = pd.read_csv('wind_turbine_data_sample.csv')\n",
    "df"
   ]
  },
  {
   "cell_type": "code",
   "execution_count": 20,
   "id": "02b4b0cd-fe26-41e6-b45d-dd6d3d57c0d5",
   "metadata": {},
   "outputs": [],
   "source": [
    "wind_speed = df['wind speed']"
   ]
  },
  {
   "cell_type": "code",
   "execution_count": 21,
   "id": "20eeb4de-e5ae-43e4-874c-346c68cf7f44",
   "metadata": {},
   "outputs": [],
   "source": [
    "power_output = df['power output']"
   ]
  },
  {
   "cell_type": "code",
   "execution_count": 27,
   "id": "77737682-7ba4-43b8-951d-6c490f1dc93d",
   "metadata": {},
   "outputs": [],
   "source": [
    "def func(params, x):\n",
    "    a, b, c, d = params[0], params[1], params[2], params[3]\n",
    "    return a*x**3 + b*x**2 + c*x + d"
   ]
  },
  {
   "cell_type": "code",
   "execution_count": 28,
   "id": "83a79bee-7f69-4b81-aaa7-c6aef81b5ecc",
   "metadata": {},
   "outputs": [],
   "source": [
    "a, b, c, d = symbols('a, b, c, d')"
   ]
  },
  {
   "cell_type": "code",
   "execution_count": 29,
   "id": "3111b369-f61c-468a-b45b-a89e596fbef2",
   "metadata": {},
   "outputs": [],
   "source": [
    "coeffs = (a, b, c, d)"
   ]
  },
  {
   "cell_type": "code",
   "execution_count": 32,
   "id": "de138e42-7ed7-4dfc-8eb2-b9f5b0945396",
   "metadata": {},
   "outputs": [],
   "source": [
    "phi = 0"
   ]
  },
  {
   "cell_type": "code",
   "execution_count": 33,
   "id": "76f8f0e5-0be0-4d69-8aee-57a089897a41",
   "metadata": {},
   "outputs": [],
   "source": [
    "for ws, po in zip(wind_speed, power_output):\n",
    "    phi += (po - func(coeffs, ws))**2"
   ]
  },
  {
   "cell_type": "code",
   "execution_count": 36,
   "id": "4403cc3e-f085-4d89-b021-a0af18cd86d6",
   "metadata": {},
   "outputs": [],
   "source": [
    "eq1 = Eq(diff(phi, a), 0)\n",
    "eq2 = Eq(diff(phi, b), 0)\n",
    "eq3 = Eq(diff(phi, c), 0)\n",
    "eq4 = Eq(diff(phi, d), 0)"
   ]
  },
  {
   "cell_type": "code",
   "execution_count": 37,
   "id": "d5a24b7d-749c-4ddf-aeb6-4ab34ceb72b1",
   "metadata": {},
   "outputs": [],
   "source": [
    "solutions = solve((eq1, eq2, eq3, eq4), (a, b, c, d))"
   ]
  },
  {
   "cell_type": "code",
   "execution_count": 38,
   "id": "777173d4-e2aa-4ac4-b9fd-66e676b8bf24",
   "metadata": {},
   "outputs": [
    {
     "data": {
      "text/plain": [
       "{a: -7.59606064982793,\n",
       " b: 205.917112180286,\n",
       " c: -1334.75406713179,\n",
       " d: 2787.95787856771}"
      ]
     },
     "execution_count": 38,
     "metadata": {},
     "output_type": "execute_result"
    }
   ],
   "source": [
    "solutions"
   ]
  },
  {
   "cell_type": "code",
   "execution_count": 47,
   "id": "78f95048-74bc-4f0a-83fb-09a5ecc1352a",
   "metadata": {},
   "outputs": [],
   "source": [
    "x_axis = np.linspace(min(wind_speed), max(wind_speed), 1000)\n",
    "y_axis = func(tuple(solutions.values()), x_axis)"
   ]
  },
  {
   "cell_type": "code",
   "execution_count": 52,
   "id": "ad0b7baf-9f7e-4238-8e57-884a271181a7",
   "metadata": {},
   "outputs": [
    {
     "data": {
      "image/png": "[encoded data removed]",
      "text/plain": [
       "<Figure size 640x480 with 1 Axes>"
      ]
     },
     "metadata": {},
     "output_type": "display_data"
    }
   ],
   "source": [
    "plt.plot(x_axis, y_axis, color = 'red')\n",
    "plt.scatter(wind_speed, power_output)\n",
    "plt.show()"
   ]
  },
  {
   "cell_type": "code",
   "execution_count": null,
   "id": "1bff6028-2cb8-4d2b-a27f-8cd105227f82",
   "metadata": {},
   "outputs": [],
   "source": []
  }
 ],
 "metadata": {
  "kernelspec": {
   "display_name": "Python 3 (ipykernel)",
   "language": "python",
   "name": "python3"
  },
  "language_info": {
   "codemirror_mode": {
    "name": "ipython",
    "version": 3
   },
   "file_extension": ".py",
   "mimetype": "text/x-python",
   "name": "python",
   "nbconvert_exporter": "python",
   "pygments_lexer": "ipython3",
   "version": "3.12.8"
  }
 },
 "nbformat": 4,
 "nbformat_minor": 5
}
