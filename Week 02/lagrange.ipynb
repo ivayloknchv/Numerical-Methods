{
 "cells": [
  {
   "cell_type": "code",
   "execution_count": 1,
   "id": "e028f129-3691-47de-bb3b-b328fc1c3807",
   "metadata": {},
   "outputs": [],
   "source": [
    "import numpy as np"
   ]
  },
  {
   "cell_type": "code",
   "execution_count": 4,
   "id": "dd1f221d-4aee-422e-92b4-1323506f42b1",
   "metadata": {},
   "outputs": [],
   "source": [
    "def calc_basis(nodes, x, k):\n",
    "    res = 1\n",
    "    for i in range(len(nodes)):\n",
    "        if i == k:\n",
    "            continue\n",
    "        res *= (x-nodes[i]) / (nodes[k] - nodes[i])\n",
    "    return res"
   ]
  },
  {
   "cell_type": "code",
   "execution_count": 5,
   "id": "45761136-eb9b-4d98-89e7-9779752b94c4",
   "metadata": {},
   "outputs": [],
   "source": [
    "def lagrange(n, A, B, f, x):\n",
    "    nodes = np.linspace(A, B, n+1)\n",
    "    values = f(nodes)\n",
    "    ans = 0\n",
    "    for i in range(n+1):\n",
    "        ans += values[i]*calc_basis(nodes, x, i)\n",
    "    return ans"
   ]
  },
  {
   "cell_type": "code",
   "execution_count": 6,
   "id": "38f32104-c6cb-4b50-9451-ac672f32e64a",
   "metadata": {},
   "outputs": [],
   "source": [
    "my_func = lambda x : np.sin(x)"
   ]
  },
  {
   "cell_type": "code",
   "execution_count": 13,
   "id": "70e50e7a-cdcb-47b4-b8f9-de95de7b12e3",
   "metadata": {},
   "outputs": [
    {
     "name": "stdout",
     "output_type": "stream",
     "text": [
      "0.5870614872174388\n"
     ]
    }
   ],
   "source": [
    "print(lagrange(3, 0, np.pi/2, my_func, np.pi/5))"
   ]
  },
  {
   "cell_type": "code",
   "execution_count": null,
   "id": "1917c4d4-f1db-4cd1-a8fd-e8383aa866bd",
   "metadata": {},
   "outputs": [],
   "source": []
  }
 ],
 "metadata": {
  "kernelspec": {
   "display_name": "Python 3 (ipykernel)",
   "language": "python",
   "name": "python3"
  },
  "language_info": {
   "codemirror_mode": {
    "name": "ipython",
    "version": 3
   },
   "file_extension": ".py",
   "mimetype": "text/x-python",
   "name": "python",
   "nbconvert_exporter": "python",
   "pygments_lexer": "ipython3",
   "version": "3.12.7"
  }
 },
 "nbformat": 4,
 "nbformat_minor": 5
}
