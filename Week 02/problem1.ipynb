{
 "cells": [
  {
   "cell_type": "code",
   "execution_count": 1,
   "id": "bb4787c3-97e0-4cbc-a9c6-8317eafa37cb",
   "metadata": {},
   "outputs": [],
   "source": [
    "import numpy as np"
   ]
  },
  {
   "cell_type": "code",
   "execution_count": 2,
   "id": "c0e9af95-9b01-4092-807f-c23c66a2cc4a",
   "metadata": {},
   "outputs": [],
   "source": [
    "import matplotlib.pyplot as plt"
   ]
  },
  {
   "cell_type": "code",
   "execution_count": 37,
   "id": "da31f1c7-8736-4b51-addf-b5cd2e64bd81",
   "metadata": {},
   "outputs": [],
   "source": [
    "x_axis = np.asarray([0, np.pi/6, np.pi/3, np.pi/2])"
   ]
  },
  {
   "cell_type": "code",
   "execution_count": 42,
   "id": "406182ab-c495-4c37-9775-2c587eb65fd7",
   "metadata": {},
   "outputs": [],
   "source": [
    "y_axis = np.sin(x_axis)"
   ]
  },
  {
   "cell_type": "code",
   "execution_count": 43,
   "id": "486990d2-9c6c-4d90-8d7e-8094b7bb7a23",
   "metadata": {},
   "outputs": [],
   "source": [
    "def l0(x):\n",
    "    return ((x-x_axis[1])*(x-x_axis[2])*(x-x_axis[3])) / ((x_axis[0]-x_axis[1])*(x_axis[0]-x_axis[2])*(x_axis[0]-x_axis[3]))"
   ]
  },
  {
   "cell_type": "code",
   "execution_count": 46,
   "id": "31c72f18-7e34-476a-81bc-98642fbec6fc",
   "metadata": {},
   "outputs": [],
   "source": [
    "def l1(x):\n",
    "    return ((x-x_axis[0])*(x-x_axis[2])*(x-x_axis[3])) / ((x_axis[1]-x_axis[0])*(x_axis[1]-x_axis[2])*(x_axis[1]-x_axis[3]))"
   ]
  },
  {
   "cell_type": "code",
   "execution_count": 47,
   "id": "7711bb01-145a-4825-9aee-66663f3d3480",
   "metadata": {},
   "outputs": [],
   "source": [
    "def l2(x):\n",
    "    return ((x-x_axis[0])*(x-x_axis[1])*(x-x_axis[3])) / ((x_axis[2]-x_axis[0])*(x_axis[2]-x_axis[1])*(x_axis[2]-x_axis[3]))"
   ]
  },
  {
   "cell_type": "code",
   "execution_count": 48,
   "id": "f4d11f93-dfa1-42cd-a7fe-abba5860d0c9",
   "metadata": {},
   "outputs": [],
   "source": [
    "def l3(x):\n",
    "    return ((x-x_axis[0])*(x-x_axis[1])*(x-x_axis[2])) / ((x_axis[3]-x_axis[0])*(x_axis[3]-x_axis[1])*(x_axis[3]-x_axis[2]))"
   ]
  },
  {
   "cell_type": "code",
   "execution_count": 49,
   "id": "8dc6d19d-4ef7-483c-bb5d-a60d23f8223d",
   "metadata": {},
   "outputs": [],
   "source": [
    "def L3(x):\n",
    "    return y_axis[0]*l0(x) + y_axis[1]*l1(x) + y_axis[2]*l2(x) + y_axis[3]*l3(x)"
   ]
  },
  {
   "cell_type": "code",
   "execution_count": 54,
   "id": "a921995f-6b43-4caf-aad3-8243e1a5d3b5",
   "metadata": {},
   "outputs": [],
   "source": [
    "exact_value = np.sin(np.pi/5)"
   ]
  },
  {
   "cell_type": "code",
   "execution_count": 55,
   "id": "3401b0de-c067-4c96-bbdb-d9e733aa67bd",
   "metadata": {},
   "outputs": [],
   "source": [
    "approximated_value = L3(np.pi/5)"
   ]
  },
  {
   "cell_type": "code",
   "execution_count": 53,
   "id": "a2068a91-1dfd-435a-95f1-187344be3369",
   "metadata": {},
   "outputs": [],
   "source": [
    "absolute_error = abs(exact_value - approximated_value)"
   ]
  },
  {
   "cell_type": "code",
   "execution_count": 58,
   "id": "230105c1-5f07-42f1-8452-12067982f9f5",
   "metadata": {},
   "outputs": [],
   "source": [
    "relative_error = absolute_error / exact_value"
   ]
  },
  {
   "cell_type": "code",
   "execution_count": null,
   "id": "54edd4b2-3e43-4afd-9d61-c72cfb6090e4",
   "metadata": {},
   "outputs": [],
   "source": [
    "error_estimate = 1/24 * abs(np.pi/5 * (np.pi/5 - np.pi/6) * (np.pi/5 - np.pi/3) * (np.pi/5 - np.pi/2))"
   ]
  },
  {
   "cell_type": "code",
   "execution_count": 69,
   "id": "66cc7c7a-92e7-4eb5-b2cb-85bccbcd58d0",
   "metadata": {},
   "outputs": [
    {
     "name": "stdout",
     "output_type": "stream",
     "text": [
      "Exact Value = 0.5877852522924731\n",
      "Approximated Value = 0.5870614872174387\n",
      "Absolute Error = 0.000723765075034466\n",
      "Relative Error = 0.0012313426922700866\n",
      "Error Estimate = 0.0010823232337111382\n"
     ]
    }
   ],
   "source": [
    "print(f\"Exact Value = {exact_value}\")\n",
    "print(f\"Approximated Value = {approximated_value}\")\n",
    "print(f\"Absolute Error = {absolute_error}\")\n",
    "print(f\"Relative Error = {relative_error}\")\n",
    "print(f\"Error Estimate = {error_estimate}\")"
   ]
  },
  {
   "cell_type": "code",
   "execution_count": 71,
   "id": "ccb73278-6543-48df-8535-45890c307346",
   "metadata": {},
   "outputs": [],
   "source": [
    "x_interval = np.linspace(0, np.pi/2, 1000)"
   ]
  },
  {
   "cell_type": "code",
   "execution_count": 80,
   "id": "b6aabf85-c553-4942-91f2-9cd19fddb2de",
   "metadata": {},
   "outputs": [
    {
     "data": {
      "text/plain": [
       "<matplotlib.legend.Legend at 0x2b471b6c140>"
      ]
     },
     "execution_count": 80,
     "metadata": {},
     "output_type": "execute_result"
    },
    {
     "data": {
      "image/png": "[encoded data removed]",
      "text/plain": [
       "<Figure size 640x480 with 1 Axes>"
      ]
     },
     "metadata": {},
     "output_type": "display_data"
    }
   ],
   "source": [
    "plt.scatter(x_axis, y_axis, color = 'blue')\n",
    "plt.plot(x_interval, np.sin(x_interval), color = 'yellow')\n",
    "plt.plot(x_interval, L3(x_interval), color = 'red', linestyle = 'dashed')\n",
    "plt.legend(['sin(x)' , 'Lagrange Polynomial'])"
   ]
  },
  {
   "cell_type": "code",
   "execution_count": null,
   "id": "1a1e7aa0-24a9-41bc-9425-4d9f38504852",
   "metadata": {},
   "outputs": [],
   "source": []
  }
 ],
 "metadata": {
  "kernelspec": {
   "display_name": "Python 3 (ipykernel)",
   "language": "python",
   "name": "python3"
  },
  "language_info": {
   "codemirror_mode": {
    "name": "ipython",
    "version": 3
   },
   "file_extension": ".py",
   "mimetype": "text/x-python",
   "name": "python",
   "nbconvert_exporter": "python",
   "pygments_lexer": "ipython3",
   "version": "3.12.7"
  }
 },
 "nbformat": 4,
 "nbformat_minor": 5
}
