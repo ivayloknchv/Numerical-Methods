{
 "cells": [
  {
   "cell_type": "code",
   "execution_count": 1,
   "id": "0dc862f9-2f42-4ec1-a6fc-8a7f4a8ee0c8",
   "metadata": {},
   "outputs": [],
   "source": [
    "import numpy as np"
   ]
  },
  {
   "cell_type": "code",
   "execution_count": 2,
   "id": "883ca02e-573c-45cf-8a41-8313501ddb0b",
   "metadata": {},
   "outputs": [],
   "source": [
    "import matplotlib.pyplot as plt"
   ]
  },
  {
   "cell_type": "code",
   "execution_count": 16,
   "id": "de8816eb-0374-40d9-a934-49a52d34fc9a",
   "metadata": {},
   "outputs": [],
   "source": [
    "def create_row(x, n, pow):\n",
    "    row = []\n",
    "    for i in range (0, n+1):\n",
    "        element = sum(x_node ** pow for x_node in x)\n",
    "        row.append(element)\n",
    "        pow+=1\n",
    "    return row"
   ]
  },
  {
   "cell_type": "code",
   "execution_count": 17,
   "id": "5b9d81df-ef10-40db-975b-27eeea7e8ec2",
   "metadata": {},
   "outputs": [],
   "source": [
    "def create_matrix(x, n):\n",
    "    matrix = []\n",
    "    for i in range(0, n+1):\n",
    "        matrix.append(create_row(x, n, i))\n",
    "    return np.array(matrix)"
   ]
  },
  {
   "cell_type": "code",
   "execution_count": 18,
   "id": "fb7f633d-fe64-4952-8424-cc47b526ff5a",
   "metadata": {},
   "outputs": [],
   "source": [
    "def create_vector(x, y, n):\n",
    "    vector = []\n",
    "    for i in range(0, n+1):\n",
    "        curr = sum(y_node * (x_node**i) for (x_node, y_node) in zip(x,y))\n",
    "        vector.append(curr)\n",
    "    return np.array(vector)"
   ]
  },
  {
   "cell_type": "code",
   "execution_count": 19,
   "id": "c68ed7ed-1f7a-42a9-bc1c-15c899754ba1",
   "metadata": {},
   "outputs": [],
   "source": [
    "def least_squares_matrix(x, y, n):\n",
    "    matrix = create_matrix(x, n)\n",
    "    vector = create_vector(x, y, n)\n",
    "    sol = np.linalg.solve(matrix, vector)\n",
    "    return sol"
   ]
  },
  {
   "cell_type": "code",
   "execution_count": 20,
   "id": "d3bb1435-7590-4d2f-a89a-29184d67984e",
   "metadata": {},
   "outputs": [],
   "source": [
    "nodes = np.array([0, 1, 2, 3, 4])"
   ]
  },
  {
   "cell_type": "code",
   "execution_count": 21,
   "id": "cdf0e12e-18d8-4b69-b7c7-d5a58734d6a5",
   "metadata": {},
   "outputs": [],
   "source": [
    "values = np.array([0, 1, 1, 2, 2])"
   ]
  },
  {
   "cell_type": "code",
   "execution_count": 24,
   "id": "b1676ab1-320e-4f50-8d92-15b0f2c09db2",
   "metadata": {},
   "outputs": [],
   "source": [
    "res = least_squares_matrix(nodes, values, 1)"
   ]
  },
  {
   "cell_type": "code",
   "execution_count": 25,
   "id": "ab0e4237-fcfe-4cc3-8411-a91d85a45a74",
   "metadata": {},
   "outputs": [
    {
     "data": {
      "text/plain": [
       "array([0.2, 0.5])"
      ]
     },
     "execution_count": 25,
     "metadata": {},
     "output_type": "execute_result"
    }
   ],
   "source": [
    "res"
   ]
  },
  {
   "cell_type": "code",
   "execution_count": null,
   "id": "84895cf4-e87d-403c-8717-50aa727f78ea",
   "metadata": {},
   "outputs": [],
   "source": []
  }
 ],
 "metadata": {
  "kernelspec": {
   "display_name": "Python 3 (ipykernel)",
   "language": "python",
   "name": "python3"
  },
  "language_info": {
   "codemirror_mode": {
    "name": "ipython",
    "version": 3
   },
   "file_extension": ".py",
   "mimetype": "text/x-python",
   "name": "python",
   "nbconvert_exporter": "python",
   "pygments_lexer": "ipython3",
   "version": "3.12.8"
  }
 },
 "nbformat": 4,
 "nbformat_minor": 5
}
