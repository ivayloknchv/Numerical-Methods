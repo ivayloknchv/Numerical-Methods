{
 "cells": [
  {
   "cell_type": "code",
   "execution_count": 1,
   "id": "47f089a4-11a5-47a0-81ae-81223335f0be",
   "metadata": {},
   "outputs": [],
   "source": [
    "import numpy as np"
   ]
  },
  {
   "cell_type": "code",
   "execution_count": 2,
   "id": "18f164c3-f718-4484-9428-8320c19a2c55",
   "metadata": {},
   "outputs": [],
   "source": [
    "import matplotlib.pyplot as plt"
   ]
  },
  {
   "cell_type": "code",
   "execution_count": 21,
   "id": "2fb96c49-1987-46ba-9ff6-2b72dc9ab2e4",
   "metadata": {},
   "outputs": [],
   "source": [
    "from sympy import symbols, Eq, diff, solve, expand"
   ]
  },
  {
   "cell_type": "code",
   "execution_count": 4,
   "id": "c9e78d8a-6dc6-4f0c-9bfc-1f23389a13d9",
   "metadata": {},
   "outputs": [],
   "source": [
    "def original_function(k_max, K, S):\n",
    "    return (k_max* S) / (K + S)"
   ]
  },
  {
   "cell_type": "code",
   "execution_count": 17,
   "id": "8b2e7587-dc23-47a1-ab2e-4789c3d69c60",
   "metadata": {},
   "outputs": [],
   "source": [
    "def reworked_function(a, b, x):\n",
    "    return a * x + b"
   ]
  },
  {
   "cell_type": "code",
   "execution_count": 6,
   "id": "e1885066-094d-40b7-8957-177816f9362d",
   "metadata": {},
   "outputs": [],
   "source": [
    "S_nodes = np.array([7, 9, 15, 25, 40, 75, 100, 150])"
   ]
  },
  {
   "cell_type": "code",
   "execution_count": 7,
   "id": "de43a57e-82ba-4a0f-b839-c6f62f5f5eb5",
   "metadata": {},
   "outputs": [],
   "source": [
    "k_values = np.array([0.29, 0.37, 0.48, 0.65, 0.80, 0.97, 0.99, 1.07])"
   ]
  },
  {
   "cell_type": "code",
   "execution_count": 14,
   "id": "35ff5da5-4b00-4ad9-a71e-5716a02f9c8e",
   "metadata": {},
   "outputs": [],
   "source": [
    "transfromed_nodes = np.array([1 / node for node in S_nodes])"
   ]
  },
  {
   "cell_type": "code",
   "execution_count": 15,
   "id": "f2c46674-9237-4f56-bd96-85469f8b8450",
   "metadata": {},
   "outputs": [],
   "source": [
    "transformed_values = np.array([1 / value for value in k_values])"
   ]
  },
  {
   "cell_type": "code",
   "execution_count": 16,
   "id": "a8cde7fd-01f1-4371-881c-e10134753f92",
   "metadata": {},
   "outputs": [],
   "source": [
    "a, b = symbols('a b')"
   ]
  },
  {
   "cell_type": "code",
   "execution_count": 18,
   "id": "c332e74c-d54a-4897-9c9d-e67b4536206b",
   "metadata": {},
   "outputs": [],
   "source": [
    "phi = 0"
   ]
  },
  {
   "cell_type": "code",
   "execution_count": 19,
   "id": "70e952e1-41f2-4dd7-b702-d43877766745",
   "metadata": {},
   "outputs": [],
   "source": [
    "for node, val in zip(transfromed_nodes, transformed_values):\n",
    "    phi += (val - reworked_function(a, b, node))**2"
   ]
  },
  {
   "cell_type": "code",
   "execution_count": 28,
   "id": "5b4eecc5-4a18-4fc5-81b2-f22f7ff96c89",
   "metadata": {},
   "outputs": [],
   "source": [
    "eq1 = Eq(diff(phi, a), 0)\n",
    "eq2 = Eq(diff(phi, b), 0)"
   ]
  },
  {
   "cell_type": "code",
   "execution_count": 36,
   "id": "9f271268-e4be-444e-8068-9016f1f4e06b",
   "metadata": {},
   "outputs": [
    {
     "data": {
      "text/plain": [
       "{a: 18.0364933826603, b: 0.812723153167145}"
      ]
     },
     "execution_count": 36,
     "metadata": {},
     "output_type": "execute_result"
    }
   ],
   "source": [
    "sols = solve([eq1, eq2])\n",
    "sols"
   ]
  },
  {
   "cell_type": "code",
   "execution_count": 52,
   "id": "209ba6cb-c091-495c-b1d6-0450b0dfb8be",
   "metadata": {},
   "outputs": [],
   "source": [
    "K = a / b"
   ]
  },
  {
   "cell_type": "code",
   "execution_count": 53,
   "id": "087ee819-71b2-40c0-b546-b994f68dfc8b",
   "metadata": {},
   "outputs": [],
   "source": [
    "k_max = 1 / b"
   ]
  },
  {
   "cell_type": "code",
   "execution_count": 58,
   "id": "40a80366-d525-4bfc-8305-822f7c5e894b",
   "metadata": {},
   "outputs": [],
   "source": [
    "x_axis = np.linspace(min(S_nodes), max(S_nodes), 1000)\n",
    "y_axis = original_function(k_max, K, x_axis)"
   ]
  },
  {
   "cell_type": "code",
   "execution_count": 62,
   "id": "89488460-e0db-4195-896e-3a7c040fc87e",
   "metadata": {},
   "outputs": [
    {
     "data": {
      "image/png": "[encoded data removed]",
      "text/plain": [
       "<Figure size 640x480 with 1 Axes>"
      ]
     },
     "metadata": {},
     "output_type": "display_data"
    }
   ],
   "source": [
    "plt.scatter(S_nodes, k_values)\n",
    "plt.plot(x_axis, y_axis)\n",
    "plt.show()"
   ]
  },
  {
   "cell_type": "code",
   "execution_count": null,
   "id": "5a926120-d46f-47f8-a78a-b4eee2428d11",
   "metadata": {},
   "outputs": [],
   "source": []
  }
 ],
 "metadata": {
  "kernelspec": {
   "display_name": "Python 3 (ipykernel)",
   "language": "python",
   "name": "python3"
  },
  "language_info": {
   "codemirror_mode": {
    "name": "ipython",
    "version": 3
   },
   "file_extension": ".py",
   "mimetype": "text/x-python",
   "name": "python",
   "nbconvert_exporter": "python",
   "pygments_lexer": "ipython3",
   "version": "3.12.8"
  }
 },
 "nbformat": 4,
 "nbformat_minor": 5
}
