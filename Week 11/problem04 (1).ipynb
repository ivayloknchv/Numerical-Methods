{
 "cells": [
  {
   "cell_type": "code",
   "execution_count": 11,
   "id": "54291d25-3bf4-47ac-bc6e-e11e05aaa69f",
   "metadata": {},
   "outputs": [],
   "source": [
    "import numpy as np"
   ]
  },
  {
   "cell_type": "code",
   "execution_count": 1,
   "id": "8cfd8ab4-3888-4fbd-b1cb-afd9057ae852",
   "metadata": {},
   "outputs": [],
   "source": [
    "from sympy import symbols, Eq, solve, integrate"
   ]
  },
  {
   "cell_type": "code",
   "execution_count": 15,
   "id": "360f8bc9-c4af-4a14-b67d-ca22e6dbe91e",
   "metadata": {},
   "outputs": [],
   "source": [
    "def f(x):\n",
    "    return np.sin(2 * x)"
   ]
  },
  {
   "cell_type": "code",
   "execution_count": 2,
   "id": "c5e19719-0e1f-4c88-b6cc-8b608173e841",
   "metadata": {},
   "outputs": [],
   "source": [
    "x, A1, x1, A2, x2, A3, x3 = symbols('x, A1, x1, A2, x2, A3, x3')"
   ]
  },
  {
   "cell_type": "code",
   "execution_count": 9,
   "id": "c5fe2768-9ced-4cc7-b3e1-517d73f84ea4",
   "metadata": {},
   "outputs": [],
   "source": [
    "eq1 = Eq(A1 + A2 + A3, integrate(1, (x, 0, 1)))\n",
    "eq2 = Eq(A1*x1 + A2*x2 + A3*x3, integrate(x, (x, 0, 1)))\n",
    "eq3 = Eq(A1*x1**2 + A2*x2**2 + A3*x3**2, integrate(x**2, (x, 0, 1)))\n",
    "eq4 = Eq(A1*x1**3 + A2*x2**3 + A3*x3**3, integrate(x**3, (x, 0, 1)))\n",
    "eq5 = Eq(A1*x1**4 + A2*x2**4 + A3*x3**4, integrate(x**4, (x, 0, 1)))\n",
    "eq6 = Eq(A1*x1**5 + A2*x2**5 + A3*x3**5, integrate(x**5, (x, 0, 1)))"
   ]
  },
  {
   "cell_type": "code",
   "execution_count": 10,
   "id": "d2d11c1b-aed8-44e2-b03c-c22a9d22793c",
   "metadata": {},
   "outputs": [
    {
     "data": {
      "text/plain": [
       "[{A1: 5/18,\n",
       "  A2: 5/18,\n",
       "  A3: 4/9,\n",
       "  x1: 1/2 - sqrt(15)/10,\n",
       "  x2: sqrt(15)/10 + 1/2,\n",
       "  x3: 1/2},\n",
       " {A1: 5/18,\n",
       "  A2: 5/18,\n",
       "  A3: 4/9,\n",
       "  x1: sqrt(15)/10 + 1/2,\n",
       "  x2: 1/2 - sqrt(15)/10,\n",
       "  x3: 1/2},\n",
       " {A1: 5/18,\n",
       "  A2: 4/9,\n",
       "  A3: 5/18,\n",
       "  x1: 1/2 - sqrt(15)/10,\n",
       "  x2: 1/2,\n",
       "  x3: sqrt(15)/10 + 1/2},\n",
       " {A1: 5/18,\n",
       "  A2: 4/9,\n",
       "  A3: 5/18,\n",
       "  x1: sqrt(15)/10 + 1/2,\n",
       "  x2: 1/2,\n",
       "  x3: 1/2 - sqrt(15)/10},\n",
       " {A1: 4/9,\n",
       "  A2: 5/18,\n",
       "  A3: 5/18,\n",
       "  x1: 1/2,\n",
       "  x2: 1/2 - sqrt(15)/10,\n",
       "  x3: sqrt(15)/10 + 1/2},\n",
       " {A1: 4/9,\n",
       "  A2: 5/18,\n",
       "  A3: 5/18,\n",
       "  x1: 1/2,\n",
       "  x2: sqrt(15)/10 + 1/2,\n",
       "  x3: 1/2 - sqrt(15)/10}]"
      ]
     },
     "execution_count": 10,
     "metadata": {},
     "output_type": "execute_result"
    }
   ],
   "source": [
    "solutions = solve([eq1, eq2, eq3, eq4, eq5, eq6])\n",
    "solutions"
   ]
  },
  {
   "cell_type": "code",
   "execution_count": 14,
   "id": "8a3c65fc-a916-418e-a373-e1c2fd23bb7f",
   "metadata": {},
   "outputs": [],
   "source": [
    "A1 = 5/18\n",
    "A2 = 5/18\n",
    "A3 = 4/9\n",
    "x1 = 1/2 - np.sqrt(15)/10\n",
    "x2 = 1/2 + np.sqrt(15)/10\n",
    "x3 = 1/2"
   ]
  },
  {
   "cell_type": "code",
   "execution_count": 16,
   "id": "816a4098-32ba-43b8-9c4b-930aa9ec9f69",
   "metadata": {},
   "outputs": [],
   "source": [
    "result = A1 * f(x1) + A2 * f(x2) + A3 * f(x3)"
   ]
  },
  {
   "cell_type": "code",
   "execution_count": 17,
   "id": "ee771728-24f4-4536-98f9-6022690ce122",
   "metadata": {},
   "outputs": [
    {
     "data": {
      "text/plain": [
       "np.float64(0.7080993263704761)"
      ]
     },
     "execution_count": 17,
     "metadata": {},
     "output_type": "execute_result"
    }
   ],
   "source": [
    "result"
   ]
  },
  {
   "cell_type": "code",
   "execution_count": null,
   "id": "e0581787-6dd9-42c6-9b84-5f95cf9dc4a7",
   "metadata": {},
   "outputs": [],
   "source": []
  }
 ],
 "metadata": {
  "kernelspec": {
   "display_name": "Python 3 (ipykernel)",
   "language": "python",
   "name": "python3"
  },
  "language_info": {
   "codemirror_mode": {
    "name": "ipython",
    "version": 3
   },
   "file_extension": ".py",
   "mimetype": "text/x-python",
   "name": "python",
   "nbconvert_exporter": "python",
   "pygments_lexer": "ipython3",
   "version": "3.12.8"
  }
 },
 "nbformat": 4,
 "nbformat_minor": 5
}
