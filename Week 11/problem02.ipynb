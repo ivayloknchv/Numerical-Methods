{
 "cells": [
  {
   "cell_type": "code",
   "execution_count": 21,
   "id": "310cc0af-814c-4043-8315-ddfafc487db2",
   "metadata": {},
   "outputs": [],
   "source": [
    "from sympy import symbols, Eq, integrate, solve"
   ]
  },
  {
   "cell_type": "code",
   "execution_count": 40,
   "id": "c680b25b-0176-4ac7-8509-93c76314144c",
   "metadata": {},
   "outputs": [],
   "source": [
    "# Gauss-Legendre 2 nodes"
   ]
  },
  {
   "cell_type": "code",
   "execution_count": 39,
   "id": "40fd35f1-9e3b-479f-9568-df4defee2364",
   "metadata": {},
   "outputs": [
    {
     "data": {
      "text/plain": [
       "[{A1: 1, A2: 1, x1: -sqrt(3)/3, x2: sqrt(3)/3},\n",
       " {A1: 1, A2: 1, x1: sqrt(3)/3, x2: -sqrt(3)/3}]"
      ]
     },
     "execution_count": 39,
     "metadata": {},
     "output_type": "execute_result"
    }
   ],
   "source": [
    "x, A1, x1, A2, x2 = symbols('x A1 x1 A2 x2')\n",
    "eq1 = Eq(A1 + A2 , integrate(1, (x, -1, 1)))\n",
    "eq2 = Eq(A1 * x1 + A2 * x2, integrate(x, (x, -1, 1)))\n",
    "eq3 = Eq(A1 * x1**2 + A2 * x2**2, integrate(x**2, (x, -1, 1)))\n",
    "eq4 = Eq(A1 * x1**3 + A2 * x2**3, integrate(x**3, (x, -1, 1)))\n",
    "solutions = solve([eq1, eq2, eq3, eq4])\n",
    "solutions"
   ]
  },
  {
   "cell_type": "code",
   "execution_count": 41,
   "id": "3439ce19-2cbf-4003-8dd8-af7f8aaca419",
   "metadata": {},
   "outputs": [],
   "source": [
    "# Gauss-Legendre 3 nodes"
   ]
  },
  {
   "cell_type": "code",
   "execution_count": 47,
   "id": "f5df6eca-7028-40f6-be2b-97726d6ef191",
   "metadata": {},
   "outputs": [
    {
     "data": {
      "text/plain": [
       "[{A1: 5/9, A2: 5/9, A3: 8/9, x1: -sqrt(15)/5, x2: sqrt(15)/5, x3: 0},\n",
       " {A1: 5/9, A2: 5/9, A3: 8/9, x1: sqrt(15)/5, x2: -sqrt(15)/5, x3: 0},\n",
       " {A1: 5/9, A2: 8/9, A3: 5/9, x1: -sqrt(15)/5, x2: 0, x3: sqrt(15)/5},\n",
       " {A1: 5/9, A2: 8/9, A3: 5/9, x1: sqrt(15)/5, x2: 0, x3: -sqrt(15)/5},\n",
       " {A1: 8/9, A2: 5/9, A3: 5/9, x1: 0, x2: -sqrt(15)/5, x3: sqrt(15)/5},\n",
       " {A1: 8/9, A2: 5/9, A3: 5/9, x1: 0, x2: sqrt(15)/5, x3: -sqrt(15)/5}]"
      ]
     },
     "execution_count": 47,
     "metadata": {},
     "output_type": "execute_result"
    }
   ],
   "source": [
    "x, A1, x1, A2, x2, A3, x3 = symbols('x, A1, x1, A2, x2, A3, x3')\n",
    "eq1 = Eq(A1 + A2 + A3, integrate(1,(x, -1, 1)))\n",
    "eq2 = Eq(A1*x1 + A2*x2 + A3*x3, integrate(x,(x, -1, 1)))\n",
    "eq3 = Eq(A1*x1**2 + A2*x2**2 + A3*x3**2, integrate(x**2,(x, -1, 1)))\n",
    "eq4 = Eq(A1*x1**3 + A2*x2**3 + A3*x3**3, integrate(x**3,(x, -1, 1)))\n",
    "eq5 = Eq(A1*x1**4 + A2*x2**4 + A3*x3**4, integrate(x**4,(x, -1, 1)))\n",
    "eq6 = Eq(A1*x1**5 + A2*x2**5 + A3*x3**5, integrate(x**5,(x, -1, 1)))\n",
    "solutions = solve([eq1, eq2, eq3, eq4, eq5, eq6])\n",
    "solutions"
   ]
  },
  {
   "cell_type": "code",
   "execution_count": null,
   "id": "cc4faa15-c59d-4447-abf7-265603d62933",
   "metadata": {},
   "outputs": [],
   "source": []
  }
 ],
 "metadata": {
  "kernelspec": {
   "display_name": "Python 3 (ipykernel)",
   "language": "python",
   "name": "python3"
  },
  "language_info": {
   "codemirror_mode": {
    "name": "ipython",
    "version": 3
   },
   "file_extension": ".py",
   "mimetype": "text/x-python",
   "name": "python",
   "nbconvert_exporter": "python",
   "pygments_lexer": "ipython3",
   "version": "3.12.8"
  }
 },
 "nbformat": 4,
 "nbformat_minor": 5
}
