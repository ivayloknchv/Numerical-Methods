{
 "cells": [
  {
   "cell_type": "code",
   "execution_count": 55,
   "id": "575b60e8-d8bb-46bf-8928-a5416043c085",
   "metadata": {},
   "outputs": [],
   "source": [
    "import numpy as np"
   ]
  },
  {
   "cell_type": "code",
   "execution_count": 56,
   "id": "184bc9a2-2ec9-42e1-8492-1f0273ae1c4e",
   "metadata": {},
   "outputs": [],
   "source": [
    "import matplotlib.pyplot as plt"
   ]
  },
  {
   "cell_type": "code",
   "execution_count": 57,
   "id": "a833ea61-120e-4800-99cd-b2a04b8d7b36",
   "metadata": {},
   "outputs": [],
   "source": [
    "basis1 = lambda n, x: np.e**(n*x)"
   ]
  },
  {
   "cell_type": "code",
   "execution_count": 58,
   "id": "64c59a90-33b5-48cd-ba99-84785d3c835f",
   "metadata": {},
   "outputs": [],
   "source": [
    "basis2 = lambda n, x : 1 / (1 + n + x)"
   ]
  },
  {
   "cell_type": "code",
   "execution_count": 59,
   "id": "cc1af423-9e6c-49b0-9293-09d7da5b4694",
   "metadata": {},
   "outputs": [],
   "source": [
    "basis3 = lambda n, x : np.e**(-n*x)"
   ]
  },
  {
   "cell_type": "code",
   "execution_count": 60,
   "id": "840df5e7-ad46-4ae1-ac95-4371218f0f9c",
   "metadata": {},
   "outputs": [],
   "source": [
    "basis4 = lambda n, x : 1 / (1 + n - x)"
   ]
  },
  {
   "cell_type": "code",
   "execution_count": 61,
   "id": "b601c45b-7249-4330-bf99-0f1931492fb8",
   "metadata": {},
   "outputs": [],
   "source": [
    "def create_matrix(nodes, basis):\n",
    "    matrix = []\n",
    "\n",
    "    for node in nodes:\n",
    "        row = []\n",
    "        for i in range(len(nodes)):\n",
    "            row.append(basis(i, node))\n",
    "        matrix.append(row)\n",
    "    return np.array(matrix)"
   ]
  },
  {
   "cell_type": "code",
   "execution_count": 72,
   "id": "d8e9093a-a609-4bcc-a734-c4ba4ff28b27",
   "metadata": {},
   "outputs": [],
   "source": [
    "def calc_poly(coeffs, x, basis):\n",
    "    res = 0\n",
    "    for i, coeff in enumerate(coeffs):\n",
    "        res += coeff * basis(i, x)\n",
    "    return res"
   ]
  },
  {
   "cell_type": "code",
   "execution_count": 73,
   "id": "f9760560-8e5e-42b8-9eaa-82ce8ed7b8a1",
   "metadata": {},
   "outputs": [],
   "source": [
    "nodes  = np.array([0, 2, 4, 6, 8])"
   ]
  },
  {
   "cell_type": "code",
   "execution_count": 74,
   "id": "54152f66-88d2-4e02-a848-83693d1926c2",
   "metadata": {},
   "outputs": [],
   "source": [
    "values = np.array([0.1, 0.009, 0.0011, 0.00003, 0.0000012])"
   ]
  },
  {
   "cell_type": "code",
   "execution_count": 75,
   "id": "39253c8f-d0a8-47d7-aa43-3bc4252b7bd3",
   "metadata": {},
   "outputs": [],
   "source": [
    "x_axis = np.linspace(0, 8, 100)"
   ]
  },
  {
   "cell_type": "code",
   "execution_count": 76,
   "id": "40a87b04-07e3-408e-a599-a5df9f3f359f",
   "metadata": {},
   "outputs": [],
   "source": [
    "# Display the coefficients calculated for Basis 1\n",
    "coeffs1 = np.linalg.solve(create_matrix(nodes, basis1), values)\n",
    "coeffs2 = np.linalg.solve(create_matrix(nodes, basis2), values)\n",
    "coeffs3 = np.linalg.solve(create_matrix(nodes, basis3), values)\n",
    "# basis4 would cause division by 0 error"
   ]
  },
  {
   "cell_type": "code",
   "execution_count": 77,
   "id": "44452014-1fbf-4d6a-94b4-0d81d14e606a",
   "metadata": {},
   "outputs": [],
   "source": [
    "y_axis1 = calc_poly(coeffs1, x_axis, basis1)\n",
    "y_axis2 = calc_poly(coeffs2, x_axis, basis2)\n",
    "y_axis3 = calc_poly(coeffs3, x_axis, basis3)"
   ]
  },
  {
   "cell_type": "code",
   "execution_count": 78,
   "id": "2da7752f-0cde-4511-8e2d-502a3317c464",
   "metadata": {},
   "outputs": [
    {
     "data": {
      "text/plain": [
       "[<matplotlib.lines.Line2D at 0x2143241e3c0>]"
      ]
     },
     "execution_count": 78,
     "metadata": {},
     "output_type": "execute_result"
    },
    {
     "data": {
      "image/png": "[encoded data removed]",
      "text/plain": [
       "<Figure size 640x480 with 1 Axes>"
      ]
     },
     "metadata": {},
     "output_type": "display_data"
    }
   ],
   "source": [
    "plt.plot(x_axis, y_axis1)\n",
    "plt.label("
   ]
  },
  {
   "cell_type": "code",
   "execution_count": null,
   "id": "7d82bcc0-177e-403d-a457-725e673700d4",
   "metadata": {},
   "outputs": [],
   "source": []
  }
 ],
 "metadata": {
  "kernelspec": {
   "display_name": "Python 3 (ipykernel)",
   "language": "python",
   "name": "python3"
  },
  "language_info": {
   "codemirror_mode": {
    "name": "ipython",
    "version": 3
   },
   "file_extension": ".py",
   "mimetype": "text/x-python",
   "name": "python",
   "nbconvert_exporter": "python",
   "pygments_lexer": "ipython3",
   "version": "3.12.7"
  }
 },
 "nbformat": 4,
 "nbformat_minor": 5
}
