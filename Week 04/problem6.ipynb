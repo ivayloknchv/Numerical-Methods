{
 "cells": [
  {
   "cell_type": "code",
   "execution_count": 1,
   "id": "24578b9a-18d3-4345-be9c-25731531c932",
   "metadata": {},
   "outputs": [],
   "source": [
    "import numpy as np"
   ]
  },
  {
   "cell_type": "code",
   "execution_count": 2,
   "id": "eadaa7b1-c486-45a4-8b91-4bc5d9e1d944",
   "metadata": {},
   "outputs": [],
   "source": [
    "import matplotlib.pyplot as plt"
   ]
  },
  {
   "cell_type": "code",
   "execution_count": 3,
   "id": "3fb1f7a0-a783-4d81-a6f5-4d49c20dbb85",
   "metadata": {},
   "outputs": [],
   "source": [
    "def divided_difference(nodes, values):\n",
    "    if len(nodes) == 1:\n",
    "        return values[0]\n",
    "    return (divided_difference(nodes[1::], values[1::]) - divided_difference(nodes[0:-1:], values[0:-1:])) / (nodes[-1] - nodes[0])"
   ]
  },
  {
   "cell_type": "code",
   "execution_count": 4,
   "id": "f23f611c-c227-45ae-b91e-4e0c2453f608",
   "metadata": {},
   "outputs": [],
   "source": [
    "def newton_poly(nodes, values, x):\n",
    "    res = 0\n",
    "    multiplier = 1\n",
    "    n = len(nodes)\n",
    "    \n",
    "    for k in range(0, n):\n",
    "        current = divided_difference(nodes[0:k+1], values[0:k+1])*multiplier\n",
    "        res+=current\n",
    "        multiplier*= (x-nodes[k])\n",
    "        \n",
    "    return res   "
   ]
  },
  {
   "cell_type": "code",
   "execution_count": 5,
   "id": "f9f5d174-25b4-4dd5-877e-ed2a40ab1026",
   "metadata": {},
   "outputs": [],
   "source": [
    "def sort_eval(x):\n",
    "    nodes = np.array([10, 20, 50, 100, 150, 200, 250])\n",
    "    values = np.array([0.163928, 0.53282, 3.00007, 11.2078, 26.7487, 47.3297, 76.8061])\n",
    "    return newton_poly(nodes, values, x)"
   ]
  },
  {
   "cell_type": "code",
   "execution_count": 6,
   "id": "a9728c2f-97f4-4cad-92db-556ca1db5db8",
   "metadata": {},
   "outputs": [],
   "source": [
    "x_axis = np.linspace(10, 250, 1000)"
   ]
  },
  {
   "cell_type": "code",
   "execution_count": 7,
   "id": "a7049aab-3d7f-4c3d-8ed4-7ee144126ed7",
   "metadata": {},
   "outputs": [],
   "source": [
    "y_axis = sort_eval(x_axis)"
   ]
  },
  {
   "cell_type": "code",
   "execution_count": 8,
   "id": "44ff5c5c-2161-467a-867d-afde918f2ef8",
   "metadata": {},
   "outputs": [
    {
     "data": {
      "text/plain": [
       "[<matplotlib.lines.Line2D at 0x28b3ff0c080>]"
      ]
     },
     "execution_count": 8,
     "metadata": {},
     "output_type": "execute_result"
    },
    {
     "data": {
      "image/png": "[encoded data removed]",
      "text/plain": [
       "<Figure size 640x480 with 1 Axes>"
      ]
     },
     "metadata": {},
     "output_type": "display_data"
    }
   ],
   "source": [
    "plt.plot(x_axis, y_axis)"
   ]
  },
  {
   "cell_type": "code",
   "execution_count": 9,
   "id": "b4b8fbd8-6d6a-4889-aead-c6ea6261b73a",
   "metadata": {},
   "outputs": [],
   "source": [
    "target = 30"
   ]
  },
  {
   "cell_type": "code",
   "execution_count": 24,
   "id": "0ebb820f-b9ad-4eac-b788-889a5c9b85a1",
   "metadata": {},
   "outputs": [],
   "source": [
    "import sympy as sp"
   ]
  },
  {
   "cell_type": "code",
   "execution_count": 25,
   "id": "b46f466a-3306-42d2-9d0f-d8227b2de7db",
   "metadata": {},
   "outputs": [],
   "source": [
    "from sympy import Symbol"
   ]
  },
  {
   "cell_type": "code",
   "execution_count": 62,
   "id": "7494671f-8c2f-477e-94fa-da7fc03f6455",
   "metadata": {},
   "outputs": [],
   "source": [
    "poly = sort_eval(x)"
   ]
  },
  {
   "cell_type": "code",
   "execution_count": 63,
   "id": "667a746e-c189-444c-abb2-18b799d16d38",
   "metadata": {},
   "outputs": [],
   "source": [
    "poly -= target"
   ]
  },
  {
   "cell_type": "code",
   "execution_count": 64,
   "id": "04e38aad-2ced-4b0e-be6b-a9a32c5cc948",
   "metadata": {},
   "outputs": [],
   "source": [
    "solutions = sp.solve(poly, x)"
   ]
  },
  {
   "cell_type": "code",
   "execution_count": 67,
   "id": "3cd7f10f-0fa9-4364-9917-e790f01ef3df",
   "metadata": {},
   "outputs": [
    {
     "name": "stdout",
     "output_type": "stream",
     "text": [
      "[-59.2372258204670, 158.463886561511, 19.0353604249825 - 118.902227037914*I, 19.0353604249825 + 118.902227037914*I, 258.811310015336 - 91.41588852669*I, 258.811310015336 + 91.41588852669*I]\n"
     ]
    }
   ],
   "source": [
    "print(solutions)"
   ]
  },
  {
   "cell_type": "code",
   "execution_count": 74,
   "id": "ad887151-7891-40fd-a093-a19cf54628ce",
   "metadata": {},
   "outputs": [],
   "source": [
    "solutions =  np.array(solutions)"
   ]
  },
  {
   "cell_type": "code",
   "execution_count": null,
   "id": "6b3cb725-4983-4744-9035-2458589fccbc",
   "metadata": {},
   "outputs": [],
   "source": []
  }
 ],
 "metadata": {
  "kernelspec": {
   "display_name": "Python 3 (ipykernel)",
   "language": "python",
   "name": "python3"
  },
  "language_info": {
   "codemirror_mode": {
    "name": "ipython",
    "version": 3
   },
   "file_extension": ".py",
   "mimetype": "text/x-python",
   "name": "python",
   "nbconvert_exporter": "python",
   "pygments_lexer": "ipython3",
   "version": "3.12.7"
  }
 },
 "nbformat": 4,
 "nbformat_minor": 5
}
