{
 "cells": [
  {
   "cell_type": "code",
   "execution_count": 1,
   "id": "4c123e12-88bf-4a09-9c67-a9f96c7cfe41",
   "metadata": {},
   "outputs": [],
   "source": [
    "import numpy as np"
   ]
  },
  {
   "cell_type": "code",
   "execution_count": 2,
   "id": "e0d172ab-fc93-4532-a05c-c7cde6171670",
   "metadata": {},
   "outputs": [],
   "source": [
    "import matplotlib.pyplot as plt"
   ]
  },
  {
   "cell_type": "code",
   "execution_count": 3,
   "id": "a8dc2ffd-88dc-48e2-92ae-614c37e7440a",
   "metadata": {},
   "outputs": [],
   "source": [
    "from sympy import symbols, Eq, diff, solve, expand"
   ]
  },
  {
   "cell_type": "code",
   "execution_count": 4,
   "id": "5533c17f-ad58-4159-90ce-9304e474ec20",
   "metadata": {},
   "outputs": [],
   "source": [
    "x, y = symbols('x, y')"
   ]
  },
  {
   "cell_type": "code",
   "execution_count": 9,
   "id": "4d685cd4-6d8d-4a52-af2a-acdfe8835ca9",
   "metadata": {},
   "outputs": [],
   "source": [
    "def phi(x, y):\n",
    "    return (x-y-1)**2 + (x+y-1)**2 + (x+y+1)**2 + (x-y+1)**2"
   ]
  },
  {
   "cell_type": "code",
   "execution_count": 10,
   "id": "3e5fe77d-db21-40c3-8aa1-ab2efaa2e006",
   "metadata": {},
   "outputs": [],
   "source": [
    "eq1=Eq(diff(phi(x,y),x), 0)"
   ]
  },
  {
   "cell_type": "code",
   "execution_count": 12,
   "id": "566190be-74ec-4a94-a22b-1a578b4487d2",
   "metadata": {},
   "outputs": [],
   "source": [
    "eq2=Eq(diff(phi(x,y),y), 0)"
   ]
  },
  {
   "cell_type": "code",
   "execution_count": 15,
   "id": "e22d103d-85d1-40f9-8396-5d7ac2f64544",
   "metadata": {},
   "outputs": [],
   "source": [
    "solutions = solve([eq1, eq2])"
   ]
  },
  {
   "cell_type": "code",
   "execution_count": 17,
   "id": "1ef6612f-0b1c-4d67-b820-03eac1c5c9aa",
   "metadata": {},
   "outputs": [
    {
     "name": "stdout",
     "output_type": "stream",
     "text": [
      "{x: 0, y: 0}\n"
     ]
    }
   ],
   "source": [
    "print(solutions)"
   ]
  },
  {
   "cell_type": "code",
   "execution_count": 22,
   "id": "30bf9450-f1fe-4acf-b2a8-688170c0871e",
   "metadata": {},
   "outputs": [],
   "source": [
    "x, y, z = symbols('x, y, z')"
   ]
  },
  {
   "cell_type": "code",
   "execution_count": 23,
   "id": "76095ae6-c60d-4f74-9366-cf492441c057",
   "metadata": {},
   "outputs": [],
   "source": [
    "def phi(x, y, z):\n",
    "    return (2*x + y + z - 1)**2 + (x + 2*y + z - 2)**2 + (x + 3*y + z - 3)**2 + (x - 4*y + z - 4)**2 + (x + 5*y + z - 4)**2"
   ]
  },
  {
   "cell_type": "code",
   "execution_count": 27,
   "id": "d91549d1-f5b8-4d57-a8e3-218edea68f92",
   "metadata": {},
   "outputs": [],
   "source": [
    "eq1 = Eq(diff(phi(x,y,z), x), 0)"
   ]
  },
  {
   "cell_type": "code",
   "execution_count": 28,
   "id": "5e3f6d35-3f8f-406f-a24b-6db79d2d3416",
   "metadata": {},
   "outputs": [],
   "source": [
    "eq2 = Eq(diff(phi(x,y,z), y), 0)"
   ]
  },
  {
   "cell_type": "code",
   "execution_count": 29,
   "id": "27d319de-02b6-42f6-96de-17c858505da7",
   "metadata": {},
   "outputs": [],
   "source": [
    "eq3 = Eq(diff(phi(x,y,z), z), 0)"
   ]
  },
  {
   "cell_type": "code",
   "execution_count": null,
   "id": "dd60e898-a708-44cd-b21c-cf28f5660662",
   "metadata": {},
   "outputs": [],
   "source": [
    "solutions = solve([])"
   ]
  }
 ],
 "metadata": {
  "kernelspec": {
   "display_name": "Python 3 (ipykernel)",
   "language": "python",
   "name": "python3"
  },
  "language_info": {
   "codemirror_mode": {
    "name": "ipython",
    "version": 3
   },
   "file_extension": ".py",
   "mimetype": "text/x-python",
   "name": "python",
   "nbconvert_exporter": "python",
   "pygments_lexer": "ipython3",
   "version": "3.12.8"
  }
 },
 "nbformat": 4,
 "nbformat_minor": 5
}
